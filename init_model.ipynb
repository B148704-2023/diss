{
 "cells": [
  {
   "cell_type": "code",
   "execution_count": 3,
   "id": "29999613-06e4-41c4-887e-b1b5fb71799f",
   "metadata": {},
   "outputs": [],
   "source": [
    "import torch\n",
    "import numpy as np\n",
    "import pandas as pd\n",
    "import matplotlib.pyplot as plt\n",
    "\n",
    "import os\n",
    "import torch\n",
    "from torch import nn\n",
    "from torch.utils.data import DataLoader"
   ]
  },
  {
   "cell_type": "code",
   "execution_count": 15,
   "id": "5c9b32ff-82ff-42ab-8949-057f0c9ba957",
   "metadata": {},
   "outputs": [
    {
     "name": "stdout",
     "output_type": "stream",
     "text": [
      "Using mps device\n"
     ]
    }
   ],
   "source": [
    "#user hardware accelerator if available\n",
    "device = (\n",
    "    \"cuda\"\n",
    "    if torch.cuda.is_available()\n",
    "    else \"mps\"\n",
    "    if torch.backends.mps.is_available()\n",
    "    else \"cpu\"\n",
    ")\n",
    "print(f\"Using {device} device\")"
   ]
  },
  {
   "cell_type": "code",
   "execution_count": 1,
   "id": "db710dd5-16f3-4c78-a31a-067da49ccea8",
   "metadata": {},
   "outputs": [],
   "source": [
    "from train import generate_training_examples"
   ]
  },
  {
   "cell_type": "code",
   "execution_count": 2,
   "id": "8856bbac-22c1-4d29-98a9-5dcda7ad2824",
   "metadata": {},
   "outputs": [
    {
     "name": "stdout",
     "output_type": "stream",
     "text": [
      "Initialising. Generating 100 training/testing examples from: data/usher_barcodes.csv...\n",
      "Generated 0 training examples...\n",
      "Generated 50 training examples...\n",
      "Elapsed: 1.7090912183125815 minutes.\n"
     ]
    }
   ],
   "source": [
    "#generate training examples\n",
    "known_freqs, sorted_snv_freqs=generate_training_examples('data/usher_barcodes.csv', 100)"
   ]
  },
  {
   "cell_type": "code",
   "execution_count": 16,
   "id": "205bd9b9-0dd9-4bfe-8ec2-3b1773b74656",
   "metadata": {},
   "outputs": [
    {
     "name": "stdout",
     "output_type": "stream",
     "text": [
      "Initialising. Generating 1000 training/testing examples from: data/usher_barcodes.csv...\n",
      "Generated 0 training examples...\n",
      "Generated 50 training examples...\n",
      "Generated 100 training examples...\n",
      "Generated 150 training examples...\n",
      "Generated 200 training examples...\n",
      "Generated 250 training examples...\n",
      "Generated 300 training examples...\n",
      "Generated 350 training examples...\n",
      "Generated 400 training examples...\n",
      "Generated 450 training examples...\n",
      "Generated 500 training examples...\n",
      "Generated 550 training examples...\n",
      "Generated 600 training examples...\n",
      "Generated 650 training examples...\n",
      "Generated 700 training examples...\n",
      "Generated 750 training examples...\n",
      "Generated 800 training examples...\n",
      "Generated 850 training examples...\n",
      "Generated 900 training examples...\n",
      "Generated 950 training examples...\n",
      "Elapsed: 20.347839613755543 minutes.\n"
     ]
    }
   ],
   "source": [
    "#generating 1000 training examples\n",
    "known_freqs, sorted_snv_freqs=generate_training_examples('data/usher_barcodes.csv', 1000)"
   ]
  },
  {
   "cell_type": "code",
   "execution_count": 13,
   "id": "643cc14c-9232-45c0-9528-074f06c1aac9",
   "metadata": {},
   "outputs": [],
   "source": [
    "def padding_to_tensor(data, pad_value=0):\n",
    "    '''Helper function to pad the input/output data and convert them to PyTorch Tensors'''\n",
    "    max_len = max(len(sublist) for sublist in data)\n",
    "    padded_list = [sublist + [pad_value] * (max_len - len(sublist)) for sublist in data]\n",
    "    torch_tensor = torch.tensor(padded_list)\n",
    "\n",
    "    return torch_tensor"
   ]
  },
  {
   "cell_type": "code",
   "execution_count": 14,
   "id": "9151ee9a-0aeb-4c40-8f2e-a230aad2cf03",
   "metadata": {},
   "outputs": [],
   "source": [
    "X=padding_to_tensor(sorted_snv_freqs)\n",
    "y=padding_to_tensor(known_freqs)"
   ]
  },
  {
   "cell_type": "code",
   "execution_count": null,
   "id": "975e10b8-714c-4def-9ae1-1ac99660e30e",
   "metadata": {},
   "outputs": [],
   "source": [
    "class NeuralNetwork(nn.Module):\n",
    "    def __init__(self):\n",
    "        super().__init__()\n",
    "        self.flatten = nn.Flatten()\n",
    "        self.linear_relu_stack = nn.Sequential(\n",
    "            nn.Linear(28*28, 512),\n",
    "            nn.ReLU(),\n",
    "            nn.Linear(512, 512),\n",
    "            nn.ReLU(),\n",
    "            nn.Linear(512, 10),\n",
    "        )\n",
    "\n",
    "    def forward(self, x):\n",
    "        x = self.flatten(x)\n",
    "        logits = self.linear_relu_stack(x)\n",
    "        return logits"
   ]
  }
 ],
 "metadata": {
  "kernelspec": {
   "display_name": "Python 3 (ipykernel)",
   "language": "python",
   "name": "python3"
  },
  "language_info": {
   "codemirror_mode": {
    "name": "ipython",
    "version": 3
   },
   "file_extension": ".py",
   "mimetype": "text/x-python",
   "name": "python",
   "nbconvert_exporter": "python",
   "pygments_lexer": "ipython3",
   "version": "3.9.19"
  }
 },
 "nbformat": 4,
 "nbformat_minor": 5
}
