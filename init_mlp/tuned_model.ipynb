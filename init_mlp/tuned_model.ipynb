{
 "cells": [
  {
   "cell_type": "code",
   "execution_count": 4,
   "id": "f8a57f66-a2ac-46d5-9a97-1f2b45bc8cbd",
   "metadata": {},
   "outputs": [],
   "source": [
    "import os \n",
    "import sys \n",
    "import numpy as np\n",
    "\n",
    "import torch\n",
    "import torch.nn as nn\n",
    "from torch.utils.data import DataLoader, TensorDataset, random_split"
   ]
  },
  {
   "cell_type": "code",
   "execution_count": 5,
   "id": "ccc444aa-4ca2-4b05-a058-79d042454490",
   "metadata": {},
   "outputs": [],
   "source": [
    "import matplotlib.pyplot as plt\n",
    "from model_tuned_12082024 import DeconvolutionModel"
   ]
  },
  {
   "cell_type": "code",
   "execution_count": 6,
   "id": "c01e7047-9041-4510-a2c8-3015f995755f",
   "metadata": {},
   "outputs": [],
   "source": [
    "def add_gaussian_noise(tensor, device, mean=0, stddev=0.1):\n",
    "    noise=(torch.randn_like(tensor)*stddev+mean).to(device)\n",
    "    noised_tensor=tensor+noise\n",
    "    return noised_tensor"
   ]
  },
  {
   "cell_type": "code",
   "execution_count": 7,
   "id": "232ee0f1-3bd9-47d9-9232-bcba1cd5ac36",
   "metadata": {},
   "outputs": [
    {
     "name": "stdout",
     "output_type": "stream",
     "text": [
      "Using mps device\n"
     ]
    }
   ],
   "source": [
    "device = (\n",
    "        \"cuda\"\n",
    "        if torch.cuda.is_available()\n",
    "        else \"mps\"\n",
    "        if torch.backends.mps.is_available()\n",
    "        else \"cpu\"\n",
    "    )\n",
    "print(f\"Using {device} device\")\n",
    "\n",
    "n = 10000\n",
    "known_freqs_file = f'known_freqs_{n}.npy'\n",
    "snv_freqs_file = f'snv_freqs_{n}.npy'"
   ]
  },
  {
   "cell_type": "code",
   "execution_count": 8,
   "id": "ef3a78b9-363a-4c2f-a683-039ae0c73bf3",
   "metadata": {},
   "outputs": [],
   "source": [
    "known_freqs=np.load(known_freqs_file)\n",
    "snv_freqs=np.load(snv_freqs_file)"
   ]
  },
  {
   "cell_type": "code",
   "execution_count": 9,
   "id": "e239dc0b-d56d-4c93-8e67-52569564e8d7",
   "metadata": {},
   "outputs": [],
   "source": [
    "known_freqs=torch.from_numpy(known_freqs).to(device)\n",
    "snv_freqs=torch.from_numpy(snv_freqs).to(device)\n",
    "snv_freqs=add_gaussian_noise(snv_freqs, device)"
   ]
  },
  {
   "cell_type": "code",
   "execution_count": 10,
   "id": "81f6b8f1-df36-486b-b7b7-5828f121ec9f",
   "metadata": {},
   "outputs": [
    {
     "name": "stdout",
     "output_type": "stream",
     "text": [
      "Training set size: 8000\n",
      "Validation set size: 1000\n",
      "Test set size: 1000\n"
     ]
    }
   ],
   "source": [
    "dataset = TensorDataset(snv_freqs, known_freqs)\n",
    "\n",
    "total_size = len(dataset)\n",
    "test_size = total_size // 10  # 10% for test\n",
    "validation_size = total_size // 10  # 10% for validation\n",
    "train_size = total_size - test_size - validation_size  # 80% train\n",
    "\n",
    "# Split the dataset\n",
    "train_dataset, validation_dataset, test_dataset = random_split(\n",
    "        dataset, [train_size, validation_size, test_size]\n",
    "    )\n",
    "\n",
    "# verify sizes\n",
    "print(f\"Training set size: {len(train_dataset)}\")\n",
    "print(f\"Validation set size: {len(validation_dataset)}\")\n",
    "print(f\"Test set size: {len(test_dataset)}\")"
   ]
  },
  {
   "cell_type": "code",
   "execution_count": 15,
   "id": "1727412b-a2d8-4299-98aa-af16977d6f0d",
   "metadata": {},
   "outputs": [],
   "source": [
    "batch_size = 1000  # Arbitrarily chosen\n",
    "train_loader = DataLoader(train_dataset, batch_size=batch_size, shuffle=False)\n",
    "validation_loader = DataLoader(validation_dataset, batch_size=batch_size, shuffle=False)\n",
    "test_loader = DataLoader(test_dataset, batch_size=batch_size, shuffle=False)"
   ]
  },
  {
   "cell_type": "code",
   "execution_count": 16,
   "id": "616bde21-48d1-484d-87b2-0a3b1d828d4e",
   "metadata": {},
   "outputs": [],
   "source": [
    "input_size = snv_freqs.shape[1]\n",
    "output_size = known_freqs.shape[1]"
   ]
  },
  {
   "cell_type": "code",
   "execution_count": 18,
   "id": "826c4445-76cb-4934-b741-e95cf86654fa",
   "metadata": {},
   "outputs": [
    {
     "name": "stdout",
     "output_type": "stream",
     "text": [
      "Using mps device\n"
     ]
    }
   ],
   "source": [
    "num_hidden_layers=5\n",
    "model = DeconvolutionModel(input_size, output_size, num_hidden_layers, device)"
   ]
  },
  {
   "cell_type": "code",
   "execution_count": 19,
   "id": "eb040568-a09d-4c40-be01-e28e318d463b",
   "metadata": {},
   "outputs": [
    {
     "name": "stdout",
     "output_type": "stream",
     "text": [
      "Epoch 1, Train loss: 0.006058, Validation loss: 0.006144\n",
      "Epoch 2, Train loss: 0.006060, Validation loss: 0.006159\n",
      "Epoch 3, Train loss: 0.006053, Validation loss: 0.006164\n",
      "Epoch 4, Train loss: 0.006060, Validation loss: 0.006170\n",
      "Epoch 5, Train loss: 0.006056, Validation loss: 0.006178\n",
      "Epoch 6, Train loss: 0.006061, Validation loss: 0.006189\n",
      "Epoch 7, Train loss: 0.006050, Validation loss: 0.006196\n",
      "Epoch 8, Train loss: 0.006056, Validation loss: 0.006199\n",
      "Epoch 9, Train loss: 0.006044, Validation loss: 0.006200\n",
      "Epoch 10, Train loss: 0.006043, Validation loss: 0.006200\n",
      "Epoch 11, Train loss: 0.006052, Validation loss: 0.006199\n",
      "Epoch 12, Train loss: 0.006040, Validation loss: 0.006199\n",
      "Epoch 13, Train loss: 0.006040, Validation loss: 0.006198\n",
      "Epoch 14, Train loss: 0.006040, Validation loss: 0.006198\n",
      "Epoch 15, Train loss: 0.006045, Validation loss: 0.006198\n",
      "Epoch 16, Train loss: 0.006053, Validation loss: 0.006197\n",
      "Epoch 17, Train loss: 0.006033, Validation loss: 0.006197\n",
      "Epoch 18, Train loss: 0.006042, Validation loss: 0.006197\n",
      "Epoch 19, Train loss: 0.006040, Validation loss: 0.006196\n",
      "Epoch 20, Train loss: 0.006040, Validation loss: 0.006196\n",
      "Epoch 21, Train loss: 0.006038, Validation loss: 0.006195\n",
      "Epoch 22, Train loss: 0.006045, Validation loss: 0.006195\n",
      "Epoch 23, Train loss: 0.006043, Validation loss: 0.006195\n",
      "Epoch 24, Train loss: 0.006044, Validation loss: 0.006194\n",
      "Epoch 25, Train loss: 0.006040, Validation loss: 0.006194\n",
      "Epoch 26, Train loss: 0.006035, Validation loss: 0.006193\n",
      "Epoch 27, Train loss: 0.006041, Validation loss: 0.006194\n",
      "Epoch 28, Train loss: 0.006031, Validation loss: 0.006193\n",
      "Epoch 29, Train loss: 0.006038, Validation loss: 0.006192\n",
      "Epoch 30, Train loss: 0.006044, Validation loss: 0.006191\n",
      "Epoch 31, Train loss: 0.006040, Validation loss: 0.006191\n",
      "Epoch 32, Train loss: 0.006030, Validation loss: 0.006190\n",
      "Epoch 33, Train loss: 0.006041, Validation loss: 0.006190\n",
      "Epoch 34, Train loss: 0.006024, Validation loss: 0.006189\n",
      "Epoch 35, Train loss: 0.006030, Validation loss: 0.006189\n",
      "Epoch 36, Train loss: 0.006028, Validation loss: 0.006188\n",
      "Epoch 37, Train loss: 0.006031, Validation loss: 0.006188\n",
      "Epoch 38, Train loss: 0.006031, Validation loss: 0.006187\n",
      "Epoch 39, Train loss: 0.006032, Validation loss: 0.006187\n",
      "Epoch 40, Train loss: 0.006024, Validation loss: 0.006186\n",
      "Epoch 41, Train loss: 0.006024, Validation loss: 0.006185\n",
      "Epoch 42, Train loss: 0.006020, Validation loss: 0.006185\n",
      "Epoch 43, Train loss: 0.006023, Validation loss: 0.006185\n",
      "Epoch 44, Train loss: 0.006024, Validation loss: 0.006184\n",
      "Epoch 45, Train loss: 0.006019, Validation loss: 0.006183\n",
      "Epoch 46, Train loss: 0.006027, Validation loss: 0.006183\n",
      "Epoch 47, Train loss: 0.006024, Validation loss: 0.006182\n",
      "Epoch 48, Train loss: 0.006015, Validation loss: 0.006182\n",
      "Epoch 49, Train loss: 0.006018, Validation loss: 0.006181\n",
      "Epoch 50, Train loss: 0.006022, Validation loss: 0.006181\n",
      "Epoch 51, Train loss: 0.006015, Validation loss: 0.006181\n",
      "Epoch 52, Train loss: 0.006019, Validation loss: 0.006180\n",
      "Epoch 53, Train loss: 0.006015, Validation loss: 0.006179\n",
      "Epoch 54, Train loss: 0.006019, Validation loss: 0.006179\n",
      "Epoch 55, Train loss: 0.006011, Validation loss: 0.006179\n",
      "Epoch 56, Train loss: 0.006020, Validation loss: 0.006178\n",
      "Epoch 57, Train loss: 0.006019, Validation loss: 0.006177\n",
      "Epoch 58, Train loss: 0.006008, Validation loss: 0.006177\n",
      "Epoch 59, Train loss: 0.006011, Validation loss: 0.006176\n",
      "Epoch 60, Train loss: 0.006012, Validation loss: 0.006176\n",
      "Epoch 61, Train loss: 0.006011, Validation loss: 0.006175\n",
      "Epoch 62, Train loss: 0.006008, Validation loss: 0.006174\n",
      "Epoch 63, Train loss: 0.006006, Validation loss: 0.006174\n",
      "Epoch 64, Train loss: 0.006009, Validation loss: 0.006173\n",
      "Epoch 65, Train loss: 0.006008, Validation loss: 0.006173\n",
      "Epoch 66, Train loss: 0.006005, Validation loss: 0.006172\n",
      "Epoch 67, Train loss: 0.006003, Validation loss: 0.006172\n",
      "Epoch 68, Train loss: 0.006007, Validation loss: 0.006171\n",
      "Epoch 69, Train loss: 0.006009, Validation loss: 0.006171\n",
      "Epoch 70, Train loss: 0.006004, Validation loss: 0.006170\n",
      "Epoch 71, Train loss: 0.006008, Validation loss: 0.006170\n",
      "Epoch 72, Train loss: 0.006004, Validation loss: 0.006169\n",
      "Epoch 73, Train loss: 0.006007, Validation loss: 0.006169\n",
      "Epoch 74, Train loss: 0.006005, Validation loss: 0.006169\n",
      "Epoch 75, Train loss: 0.005997, Validation loss: 0.006168\n",
      "Epoch 76, Train loss: 0.006003, Validation loss: 0.006168\n",
      "Epoch 77, Train loss: 0.006000, Validation loss: 0.006167\n",
      "Epoch 78, Train loss: 0.005997, Validation loss: 0.006167\n",
      "Epoch 79, Train loss: 0.006001, Validation loss: 0.006166\n",
      "Epoch 80, Train loss: 0.005999, Validation loss: 0.006166\n",
      "Epoch 81, Train loss: 0.005997, Validation loss: 0.006165\n",
      "Epoch 82, Train loss: 0.005997, Validation loss: 0.006165\n",
      "Epoch 83, Train loss: 0.005994, Validation loss: 0.006165\n",
      "Epoch 84, Train loss: 0.005998, Validation loss: 0.006164\n",
      "Epoch 85, Train loss: 0.005995, Validation loss: 0.006164\n",
      "Epoch 86, Train loss: 0.005994, Validation loss: 0.006164\n",
      "Epoch 87, Train loss: 0.005995, Validation loss: 0.006163\n",
      "Epoch 88, Train loss: 0.005994, Validation loss: 0.006162\n",
      "Epoch 89, Train loss: 0.005993, Validation loss: 0.006162\n",
      "Epoch 90, Train loss: 0.005992, Validation loss: 0.006162\n",
      "Epoch 91, Train loss: 0.005992, Validation loss: 0.006161\n",
      "Epoch 92, Train loss: 0.005993, Validation loss: 0.006161\n",
      "Epoch 93, Train loss: 0.005990, Validation loss: 0.006161\n",
      "Epoch 94, Train loss: 0.005991, Validation loss: 0.006160\n",
      "Epoch 95, Train loss: 0.005992, Validation loss: 0.006160\n",
      "Epoch 96, Train loss: 0.005992, Validation loss: 0.006159\n",
      "Epoch 97, Train loss: 0.005988, Validation loss: 0.006159\n",
      "Epoch 98, Train loss: 0.005989, Validation loss: 0.006159\n",
      "Epoch 99, Train loss: 0.005987, Validation loss: 0.006159\n",
      "Epoch 100, Train loss: 0.005988, Validation loss: 0.006158\n",
      "Epoch 101, Train loss: 0.005987, Validation loss: 0.006158\n",
      "Early stopping on epoch 101\n",
      "Test Error: \n",
      " Avg loss: 0.006158 \n",
      "\n"
     ]
    }
   ],
   "source": [
    "model.fit(train_loader, validation_loader, epochs=1000)\n",
    "\n",
    "# Evaluate the model\n",
    "model.evaluate(validation_loader)\n",
    "\n",
    "# Predict using the model\n",
    "predictions, actuals = model.predict(test_loader)"
   ]
  },
  {
   "cell_type": "code",
   "execution_count": 20,
   "id": "4df25291-c4a4-4f95-ad64-dee02d9c599f",
   "metadata": {},
   "outputs": [
    {
     "name": "stdout",
     "output_type": "stream",
     "text": [
      "[[0. 0. 0. ... 0. 0. 0.]\n",
      " [0. 0. 0. ... 0. 0. 0.]\n",
      " [0. 0. 0. ... 0. 0. 0.]\n",
      " ...\n",
      " [0. 0. 0. ... 0. 0. 0.]\n",
      " [0. 0. 0. ... 0. 0. 0.]\n",
      " [0. 0. 0. ... 0. 0. 0.]]\n"
     ]
    }
   ],
   "source": [
    "print(predictions)"
   ]
  },
  {
   "cell_type": "code",
   "execution_count": 21,
   "id": "4175084a-c70f-4f14-99b8-51313b5f8dfc",
   "metadata": {},
   "outputs": [
    {
     "data": {
      "text/plain": [
       "0.999999962747097"
      ]
     },
     "execution_count": 21,
     "metadata": {},
     "output_type": "execute_result"
    }
   ],
   "source": [
    "sum(predictions[4])"
   ]
  },
  {
   "cell_type": "code",
   "execution_count": null,
   "id": "18b2851c-7948-4f60-9ca7-bfaab33d53cd",
   "metadata": {},
   "outputs": [],
   "source": [
    "sum(actuals[1])"
   ]
  },
  {
   "cell_type": "code",
   "execution_count": 22,
   "id": "5db09051-fbfc-41df-97d6-87b54b649e0a",
   "metadata": {},
   "outputs": [
    {
     "data": {
      "image/png": "[encoded data removed]",
      "text/plain": [
       "<Figure size 1000x600 with 1 Axes>"
      ]
     },
     "metadata": {},
     "output_type": "display_data"
    }
   ],
   "source": [
    "plt.figure(figsize=(10, 6))\n",
    "plt.scatter(predictions.flatten(), actuals.flatten(), alpha=0.5)\n",
    "plt.xlabel('Predicted Frequencies')\n",
    "plt.ylabel('Actual Frequencies')\n",
    "plt.title(f'Predicted vs Actual Frequencies')\n",
    "plt.show()"
   ]
  },
  {
   "cell_type": "code",
   "execution_count": null,
   "id": "f40172ce-5212-4238-873f-6bfd5e4bf68b",
   "metadata": {},
   "outputs": [],
   "source": [
    "torch.save(model.model.state_dict(), 'diss')"
   ]
  }
 ],
 "metadata": {
  "kernelspec": {
   "display_name": "Python 3 (ipykernel)",
   "language": "python",
   "name": "python3"
  },
  "language_info": {
   "codemirror_mode": {
    "name": "ipython",
    "version": 3
   },
   "file_extension": ".py",
   "mimetype": "text/x-python",
   "name": "python",
   "nbconvert_exporter": "python",
   "pygments_lexer": "ipython3",
   "version": "3.9.19"
  }
 },
 "nbformat": 4,
 "nbformat_minor": 5
}
