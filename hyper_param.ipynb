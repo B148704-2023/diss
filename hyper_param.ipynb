{
 "cells": [
  {
   "cell_type": "code",
   "execution_count": 1,
   "id": "54ae224b-018c-4369-8096-e697d5b64df2",
   "metadata": {},
   "outputs": [],
   "source": [
    "import os \n",
    "import sys \n",
    "import numpy as np\n",
    "\n",
    "import torch\n",
    "import torch.nn as nn\n",
    "from torch.utils.data import DataLoader, TensorDataset, random_split\n",
    "\n",
    "from train import generate_training_examples\n",
    "\n",
    "import optuna\n",
    "from optuna.samplers import TPESampler\n",
    "from optuna.pruners import MedianPruner\n",
    "import optuna.visualization as vis\n",
    "import plotly.io as pio\n",
    "\n",
    "import matplotlib.pyplot as plt\n",
    "from matplotlib.backends.backend_pdf import PdfPages\n",
    "\n",
    "from abc import ABC, abstractmethod"
   ]
  },
  {
   "cell_type": "code",
   "execution_count": 2,
   "id": "33db3976-e9d7-4768-b013-8a91d0ed8706",
   "metadata": {},
   "outputs": [],
   "source": [
    "from model_baseline import SNV2LinFreqs"
   ]
  },
  {
   "cell_type": "code",
   "execution_count": 3,
   "id": "3d8f8ede-e0ac-4bf5-a73c-698e6c64642c",
   "metadata": {},
   "outputs": [],
   "source": [
    "def add_gaussian_noise(tensor, mean=0, stddev=0.1):\n",
    "    noise=torch.randn(tensor.size())*stddev+mean\n",
    "    noised_tensor=tensor+noise\n",
    "    return noised_tensor"
   ]
  },
  {
   "cell_type": "code",
   "execution_count": 3,
   "id": "b4e59d33-5173-429a-bd21-56aefb9f3263",
   "metadata": {},
   "outputs": [
    {
     "name": "stdout",
     "output_type": "stream",
     "text": [
      "Using mps device\n"
     ]
    }
   ],
   "source": [
    "device = (\n",
    "        \"cuda\"\n",
    "        if torch.cuda.is_available()\n",
    "        else \"mps\"\n",
    "        if torch.backends.mps.is_available()\n",
    "        else \"cpu\"\n",
    "    )\n",
    "print(f\"Using {device} device\")\n",
    "\n",
    "n = 10000\n",
    "known_freqs_file = f'known_freqs_{n}.npy'\n",
    "snv_freqs_file = f'snv_freqs_{n}.npy'"
   ]
  },
  {
   "cell_type": "code",
   "execution_count": 4,
   "id": "28b75e69-8117-490d-afd2-b80ae75dedfc",
   "metadata": {},
   "outputs": [],
   "source": [
    "X=np.load(known_freqs_file)\n",
    "y=np.load(snv_freqs_file)"
   ]
  },
  {
   "cell_type": "code",
   "execution_count": 5,
   "id": "2b1f6c28-1578-4c43-8887-783c68a129f6",
   "metadata": {},
   "outputs": [],
   "source": [
    "known_freqs=torch.from_numpy(X).to(device)\n",
    "snv_freqs=torch.from_numpy(y).to(device)"
   ]
  },
  {
   "cell_type": "code",
   "execution_count": 6,
   "id": "d230d492-50b6-46c0-aced-842765914021",
   "metadata": {},
   "outputs": [
    {
     "name": "stdout",
     "output_type": "stream",
     "text": [
      "Training set size: 8000\n",
      "Validation set size: 1000\n",
      "Test set size: 1000\n"
     ]
    }
   ],
   "source": [
    "dataset = TensorDataset(snv_freqs, known_freqs)\n",
    "\n",
    "total_size = len(dataset)\n",
    "test_size = total_size // 10  # 10% for test\n",
    "validation_size = total_size // 10  # 10% for validation\n",
    "train_size = total_size - test_size - validation_size  # 80% train\n",
    "\n",
    "# Split the dataset\n",
    "train_dataset, validation_dataset, test_dataset = random_split(\n",
    "        dataset, [train_size, validation_size, test_size]\n",
    "    )\n",
    "\n",
    "# verify sizes\n",
    "print(f\"Training set size: {len(train_dataset)}\")\n",
    "print(f\"Validation set size: {len(validation_dataset)}\")\n",
    "print(f\"Test set size: {len(test_dataset)}\")"
   ]
  },
  {
   "cell_type": "code",
   "execution_count": 7,
   "id": "07c1fe36-cbcc-46a9-8974-a31a96811048",
   "metadata": {},
   "outputs": [],
   "source": [
    "batch_size = 1000  # Arbitrarily chosen\n",
    "train_loader = DataLoader(train_dataset, batch_size=batch_size, shuffle=False)\n",
    "validation_loader = DataLoader(validation_dataset, batch_size=batch_size, shuffle=False)\n",
    "test_loader = DataLoader(test_dataset, batch_size=batch_size, shuffle=False)"
   ]
  },
  {
   "cell_type": "code",
   "execution_count": 8,
   "id": "906ecfdf-2483-418c-8a85-fd3a31638838",
   "metadata": {},
   "outputs": [],
   "source": [
    "input_size = snv_freqs.shape[1]\n",
    "output_size = known_freqs.shape[1]"
   ]
  },
  {
   "cell_type": "code",
   "execution_count": 9,
   "id": "1f1dd21e-e5c1-4229-97a5-cb6504a144ff",
   "metadata": {},
   "outputs": [
    {
     "name": "stdout",
     "output_type": "stream",
     "text": [
      "Using mps device\n"
     ]
    },
    {
     "name": "stderr",
     "output_type": "stream",
     "text": [
      "[I 2024-07-22 21:24:44,190] A new study created in RDB with name: hyper_param_tuning_snv2linfreqs\n"
     ]
    },
    {
     "name": "stdout",
     "output_type": "stream",
     "text": [
      "A new study created in RDB with name: hyper_param_tuning_snv2linfreqs\n",
      "Using mps device\n"
     ]
    },
    {
     "name": "stderr",
     "output_type": "stream",
     "text": [
      "[I 2024-07-22 21:33:07,502] Trial 0 finished with value: 2.6539233658695593e-05 and parameters: {'num_hidden_layers': 5, 'dropout': 0.13674295813412485, 'weight_decay': 0.0408037389964794, 'lr': 8.438428212593237e-05}. Best is trial 0 with value: 2.6539233658695593e-05.\n"
     ]
    },
    {
     "name": "stdout",
     "output_type": "stream",
     "text": [
      "Trial 0 finished with value: 2.6539233658695593e-05 and parameters: {'num_hidden_layers': 5, 'dropout': 0.13674295813412485, 'weight_decay': 0.0408037389964794, 'lr': 8.438428212593237e-05}. Best is trial 0 with value: 2.6539233658695593e-05.\n",
      "Using mps device\n"
     ]
    },
    {
     "name": "stderr",
     "output_type": "stream",
     "text": [
      "[I 2024-07-22 21:36:30,494] Trial 1 finished with value: 2.6707140932558104e-05 and parameters: {'num_hidden_layers': 5, 'dropout': 0.45637310639286915, 'weight_decay': 0.04803777960286476, 'lr': 0.00046929140924365984}. Best is trial 0 with value: 2.6539233658695593e-05.\n"
     ]
    },
    {
     "name": "stdout",
     "output_type": "stream",
     "text": [
      "Trial 1 finished with value: 2.6707140932558104e-05 and parameters: {'num_hidden_layers': 5, 'dropout': 0.45637310639286915, 'weight_decay': 0.04803777960286476, 'lr': 0.00046929140924365984}. Best is trial 0 with value: 2.6539233658695593e-05.\n",
      "Using mps device\n"
     ]
    },
    {
     "name": "stderr",
     "output_type": "stream",
     "text": [
      "[I 2024-07-22 22:12:29,197] Trial 2 finished with value: 2.651768045325298e-05 and parameters: {'num_hidden_layers': 4, 'dropout': 0.08478718045463651, 'weight_decay': 0.048669329452713864, 'lr': 1.3753028597034726e-05}. Best is trial 2 with value: 2.651768045325298e-05.\n"
     ]
    },
    {
     "name": "stdout",
     "output_type": "stream",
     "text": [
      "Trial 2 finished with value: 2.651768045325298e-05 and parameters: {'num_hidden_layers': 4, 'dropout': 0.08478718045463651, 'weight_decay': 0.048669329452713864, 'lr': 1.3753028597034726e-05}. Best is trial 2 with value: 2.651768045325298e-05.\n",
      "Using mps device\n"
     ]
    },
    {
     "name": "stderr",
     "output_type": "stream",
     "text": [
      "[I 2024-07-22 22:25:00,626] Trial 3 finished with value: 2.6611343855620362e-05 and parameters: {'num_hidden_layers': 5, 'dropout': 0.04420620991389562, 'weight_decay': 0.0039229860328630975, 'lr': 4.4343471014086673e-05}. Best is trial 2 with value: 2.651768045325298e-05.\n"
     ]
    },
    {
     "name": "stdout",
     "output_type": "stream",
     "text": [
      "Trial 3 finished with value: 2.6611343855620362e-05 and parameters: {'num_hidden_layers': 5, 'dropout': 0.04420620991389562, 'weight_decay': 0.0039229860328630975, 'lr': 4.4343471014086673e-05}. Best is trial 2 with value: 2.651768045325298e-05.\n",
      "Using mps device\n"
     ]
    },
    {
     "name": "stderr",
     "output_type": "stream",
     "text": [
      "[I 2024-07-22 22:27:05,857] Trial 4 finished with value: 2.7302085072733462e-05 and parameters: {'num_hidden_layers': 3, 'dropout': 0.041404355439067064, 'weight_decay': 0.07267460629071343, 'lr': 0.0013392972673322752}. Best is trial 2 with value: 2.651768045325298e-05.\n"
     ]
    },
    {
     "name": "stdout",
     "output_type": "stream",
     "text": [
      "Trial 4 finished with value: 2.7302085072733462e-05 and parameters: {'num_hidden_layers': 3, 'dropout': 0.041404355439067064, 'weight_decay': 0.07267460629071343, 'lr': 0.0013392972673322752}. Best is trial 2 with value: 2.651768045325298e-05.\n",
      "Using mps device\n"
     ]
    },
    {
     "name": "stderr",
     "output_type": "stream",
     "text": [
      "[I 2024-07-22 22:28:10,327] Trial 5 finished with value: 0.00654482701793313 and parameters: {'num_hidden_layers': 1, 'dropout': 0.1902532988864966, 'weight_decay': 0.06467808483139852, 'lr': 0.011045327569121098}. Best is trial 2 with value: 2.651768045325298e-05.\n"
     ]
    },
    {
     "name": "stdout",
     "output_type": "stream",
     "text": [
      "Trial 5 finished with value: 0.00654482701793313 and parameters: {'num_hidden_layers': 1, 'dropout': 0.1902532988864966, 'weight_decay': 0.06467808483139852, 'lr': 0.011045327569121098}. Best is trial 2 with value: 2.651768045325298e-05.\n",
      "Using mps device\n"
     ]
    },
    {
     "name": "stderr",
     "output_type": "stream",
     "text": [
      "[I 2024-07-22 22:40:43,378] Trial 6 finished with value: 2.6517225705902092e-05 and parameters: {'num_hidden_layers': 1, 'dropout': 0.23104210903663858, 'weight_decay': 0.041520478239625805, 'lr': 1.3420175708515622e-05}. Best is trial 6 with value: 2.6517225705902092e-05.\n"
     ]
    },
    {
     "name": "stdout",
     "output_type": "stream",
     "text": [
      "Trial 6 finished with value: 2.6517225705902092e-05 and parameters: {'num_hidden_layers': 1, 'dropout': 0.23104210903663858, 'weight_decay': 0.041520478239625805, 'lr': 1.3420175708515622e-05}. Best is trial 6 with value: 2.6517225705902092e-05.\n",
      "Using mps device\n"
     ]
    },
    {
     "name": "stderr",
     "output_type": "stream",
     "text": [
      "[I 2024-07-22 22:47:42,699] Trial 7 finished with value: 2.651871182024479e-05 and parameters: {'num_hidden_layers': 5, 'dropout': 0.1396393964449355, 'weight_decay': 0.09439207720178115, 'lr': 0.00012085834682622781}. Best is trial 6 with value: 2.6517225705902092e-05.\n"
     ]
    },
    {
     "name": "stdout",
     "output_type": "stream",
     "text": [
      "Trial 7 finished with value: 2.651871182024479e-05 and parameters: {'num_hidden_layers': 5, 'dropout': 0.1396393964449355, 'weight_decay': 0.09439207720178115, 'lr': 0.00012085834682622781}. Best is trial 6 with value: 2.6517225705902092e-05.\n",
      "Using mps device\n"
     ]
    },
    {
     "name": "stderr",
     "output_type": "stream",
     "text": [
      "[I 2024-07-22 22:50:09,471] Trial 8 finished with value: 2.6648825951269828e-05 and parameters: {'num_hidden_layers': 4, 'dropout': 0.068923206797948, 'weight_decay': 0.06099186139965427, 'lr': 0.0006333214765619294}. Best is trial 6 with value: 2.6517225705902092e-05.\n"
     ]
    },
    {
     "name": "stdout",
     "output_type": "stream",
     "text": [
      "Trial 8 finished with value: 2.6648825951269828e-05 and parameters: {'num_hidden_layers': 4, 'dropout': 0.068923206797948, 'weight_decay': 0.06099186139965427, 'lr': 0.0006333214765619294}. Best is trial 6 with value: 2.6517225705902092e-05.\n",
      "Using mps device\n"
     ]
    },
    {
     "name": "stderr",
     "output_type": "stream",
     "text": [
      "[I 2024-07-22 22:52:58,391] Trial 9 finished with value: 2.6576173695502803e-05 and parameters: {'num_hidden_layers': 4, 'dropout': 0.28088277892379615, 'weight_decay': 0.0406798468657442, 'lr': 0.0002202698594609545}. Best is trial 6 with value: 2.6517225705902092e-05.\n"
     ]
    },
    {
     "name": "stdout",
     "output_type": "stream",
     "text": [
      "Trial 9 finished with value: 2.6576173695502803e-05 and parameters: {'num_hidden_layers': 4, 'dropout': 0.28088277892379615, 'weight_decay': 0.0406798468657442, 'lr': 0.0002202698594609545}. Best is trial 6 with value: 2.6517225705902092e-05.\n",
      "Using mps device\n"
     ]
    },
    {
     "name": "stderr",
     "output_type": "stream",
     "text": [
      "[I 2024-07-22 22:54:58,670] Trial 10 finished with value: 2.711006163735874e-05 and parameters: {'num_hidden_layers': 1, 'dropout': 0.3201656571915432, 'weight_decay': 0.00876691862603822, 'lr': 0.07293992567580057}. Best is trial 6 with value: 2.6517225705902092e-05.\n"
     ]
    },
    {
     "name": "stdout",
     "output_type": "stream",
     "text": [
      "Trial 10 finished with value: 2.711006163735874e-05 and parameters: {'num_hidden_layers': 1, 'dropout': 0.3201656571915432, 'weight_decay': 0.00876691862603822, 'lr': 0.07293992567580057}. Best is trial 6 with value: 2.6517225705902092e-05.\n",
      "Using mps device\n"
     ]
    },
    {
     "name": "stderr",
     "output_type": "stream",
     "text": [
      "[I 2024-07-22 23:22:16,813] Trial 11 finished with value: 2.6517007427173667e-05 and parameters: {'num_hidden_layers': 2, 'dropout': 0.34982933131772387, 'weight_decay': 0.024211563253219798, 'lr': 1.0430657108626462e-05}. Best is trial 11 with value: 2.6517007427173667e-05.\n"
     ]
    },
    {
     "name": "stdout",
     "output_type": "stream",
     "text": [
      "Trial 11 finished with value: 2.6517007427173667e-05 and parameters: {'num_hidden_layers': 2, 'dropout': 0.34982933131772387, 'weight_decay': 0.024211563253219798, 'lr': 1.0430657108626462e-05}. Best is trial 11 with value: 2.6517007427173667e-05.\n",
      "Using mps device\n"
     ]
    },
    {
     "name": "stderr",
     "output_type": "stream",
     "text": [
      "[I 2024-07-22 23:47:03,078] Trial 12 finished with value: 2.6516976504353806e-05 and parameters: {'num_hidden_layers': 2, 'dropout': 0.37724563664765554, 'weight_decay': 0.02545796613216744, 'lr': 1.1498049856938047e-05}. Best is trial 12 with value: 2.6516976504353806e-05.\n"
     ]
    },
    {
     "name": "stdout",
     "output_type": "stream",
     "text": [
      "Trial 12 finished with value: 2.6516976504353806e-05 and parameters: {'num_hidden_layers': 2, 'dropout': 0.37724563664765554, 'weight_decay': 0.02545796613216744, 'lr': 1.1498049856938047e-05}. Best is trial 12 with value: 2.6516976504353806e-05.\n",
      "Using mps device\n"
     ]
    },
    {
     "name": "stderr",
     "output_type": "stream",
     "text": [
      "[I 2024-07-23 00:16:07,976] Trial 13 finished with value: 2.65169219346717e-05 and parameters: {'num_hidden_layers': 2, 'dropout': 0.3827881976199128, 'weight_decay': 0.023937914613114734, 'lr': 1.0674504528310907e-05}. Best is trial 13 with value: 2.65169219346717e-05.\n"
     ]
    },
    {
     "name": "stdout",
     "output_type": "stream",
     "text": [
      "Trial 13 finished with value: 2.65169219346717e-05 and parameters: {'num_hidden_layers': 2, 'dropout': 0.3827881976199128, 'weight_decay': 0.023937914613114734, 'lr': 1.0674504528310907e-05}. Best is trial 13 with value: 2.65169219346717e-05.\n",
      "Using mps device\n"
     ]
    },
    {
     "name": "stderr",
     "output_type": "stream",
     "text": [
      "[I 2024-07-23 00:17:53,830] Trial 14 finished with value: 3.00302890536841e-05 and parameters: {'num_hidden_layers': 2, 'dropout': 0.43213649695190104, 'weight_decay': 0.021852199605489248, 'lr': 0.002779956529848775}. Best is trial 13 with value: 2.65169219346717e-05.\n"
     ]
    },
    {
     "name": "stdout",
     "output_type": "stream",
     "text": [
      "Trial 14 finished with value: 3.00302890536841e-05 and parameters: {'num_hidden_layers': 2, 'dropout': 0.43213649695190104, 'weight_decay': 0.021852199605489248, 'lr': 0.002779956529848775}. Best is trial 13 with value: 2.65169219346717e-05.\n",
      "Using mps device\n"
     ]
    },
    {
     "name": "stderr",
     "output_type": "stream",
     "text": [
      "[I 2024-07-23 00:25:21,246] Trial 15 finished with value: 2.652683360793162e-05 and parameters: {'num_hidden_layers': 2, 'dropout': 0.39161160782621074, 'weight_decay': 0.020257068893331516, 'lr': 4.366429424335208e-05}. Best is trial 13 with value: 2.65169219346717e-05.\n"
     ]
    },
    {
     "name": "stdout",
     "output_type": "stream",
     "text": [
      "Trial 15 finished with value: 2.652683360793162e-05 and parameters: {'num_hidden_layers': 2, 'dropout': 0.39161160782621074, 'weight_decay': 0.020257068893331516, 'lr': 4.366429424335208e-05}. Best is trial 13 with value: 2.65169219346717e-05.\n",
      "Using mps device\n"
     ]
    },
    {
     "name": "stderr",
     "output_type": "stream",
     "text": [
      "[I 2024-07-23 00:40:15,405] Trial 16 finished with value: 2.6518197046243586e-05 and parameters: {'num_hidden_layers': 3, 'dropout': 0.4785150974163521, 'weight_decay': 0.027886282139865076, 'lr': 3.3296116463267125e-05}. Best is trial 13 with value: 2.65169219346717e-05.\n"
     ]
    },
    {
     "name": "stdout",
     "output_type": "stream",
     "text": [
      "Trial 16 finished with value: 2.6518197046243586e-05 and parameters: {'num_hidden_layers': 3, 'dropout': 0.4785150974163521, 'weight_decay': 0.027886282139865076, 'lr': 3.3296116463267125e-05}. Best is trial 13 with value: 2.65169219346717e-05.\n",
      "Using mps device\n"
     ]
    },
    {
     "name": "stderr",
     "output_type": "stream",
     "text": [
      "[I 2024-07-23 00:42:00,595] Trial 17 finished with value: 2.724710248003248e-05 and parameters: {'num_hidden_layers': 2, 'dropout': 0.39616853659204215, 'weight_decay': 0.014789787301787049, 'lr': 0.012005279956776948}. Best is trial 13 with value: 2.65169219346717e-05.\n"
     ]
    },
    {
     "name": "stdout",
     "output_type": "stream",
     "text": [
      "Trial 17 finished with value: 2.724710248003248e-05 and parameters: {'num_hidden_layers': 2, 'dropout': 0.39616853659204215, 'weight_decay': 0.014789787301787049, 'lr': 0.012005279956776948}. Best is trial 13 with value: 2.65169219346717e-05.\n",
      "Using mps device\n"
     ]
    },
    {
     "name": "stderr",
     "output_type": "stream",
     "text": [
      "[I 2024-07-23 00:48:23,897] Trial 18 finished with value: 5.944531221757643e-05 and parameters: {'num_hidden_layers': 3, 'dropout': 0.3342067083519818, 'weight_decay': 0.0003075033067980251, 'lr': 2.4315952380166745e-05}. Best is trial 13 with value: 2.65169219346717e-05.\n"
     ]
    },
    {
     "name": "stdout",
     "output_type": "stream",
     "text": [
      "Trial 18 finished with value: 5.944531221757643e-05 and parameters: {'num_hidden_layers': 3, 'dropout': 0.3342067083519818, 'weight_decay': 0.0003075033067980251, 'lr': 2.4315952380166745e-05}. Best is trial 13 with value: 2.65169219346717e-05.\n",
      "Using mps device\n"
     ]
    },
    {
     "name": "stderr",
     "output_type": "stream",
     "text": [
      "[I 2024-07-23 00:50:01,218] Trial 19 finished with value: 2.6597459509503096e-05 and parameters: {'num_hidden_layers': 2, 'dropout': 0.27106101318887443, 'weight_decay': 0.034240864983594695, 'lr': 0.0001790249241268233}. Best is trial 13 with value: 2.65169219346717e-05.\n"
     ]
    },
    {
     "name": "stdout",
     "output_type": "stream",
     "text": [
      "Trial 19 finished with value: 2.6597459509503096e-05 and parameters: {'num_hidden_layers': 2, 'dropout': 0.27106101318887443, 'weight_decay': 0.034240864983594695, 'lr': 0.0001790249241268233}. Best is trial 13 with value: 2.65169219346717e-05.\n",
      "Using mps device\n"
     ]
    },
    {
     "name": "stderr",
     "output_type": "stream",
     "text": [
      "[I 2024-07-23 00:50:32,932] Trial 20 finished with value: 0.0005362942465581 and parameters: {'num_hidden_layers': 1, 'dropout': 0.49935534242281415, 'weight_decay': 0.013258260044857176, 'lr': 6.815476730154054e-05}. Best is trial 13 with value: 2.65169219346717e-05.\n"
     ]
    },
    {
     "name": "stdout",
     "output_type": "stream",
     "text": [
      "Trial 20 finished with value: 0.0005362942465581 and parameters: {'num_hidden_layers': 1, 'dropout': 0.49935534242281415, 'weight_decay': 0.013258260044857176, 'lr': 6.815476730154054e-05}. Best is trial 13 with value: 2.65169219346717e-05.\n",
      "Using mps device\n"
     ]
    },
    {
     "name": "stderr",
     "output_type": "stream",
     "text": [
      "[I 2024-07-23 01:13:43,881] Trial 21 finished with value: 2.6516592697589658e-05 and parameters: {'num_hidden_layers': 2, 'dropout': 0.35704046281524116, 'weight_decay': 0.02903310319281646, 'lr': 1.0334476847314875e-05}. Best is trial 21 with value: 2.6516592697589658e-05.\n"
     ]
    },
    {
     "name": "stdout",
     "output_type": "stream",
     "text": [
      "Trial 21 finished with value: 2.6516592697589658e-05 and parameters: {'num_hidden_layers': 2, 'dropout': 0.35704046281524116, 'weight_decay': 0.02903310319281646, 'lr': 1.0334476847314875e-05}. Best is trial 21 with value: 2.6516592697589658e-05.\n",
      "Using mps device\n"
     ]
    },
    {
     "name": "stderr",
     "output_type": "stream",
     "text": [
      "[I 2024-07-23 01:27:29,553] Trial 22 finished with value: 2.65171784121776e-05 and parameters: {'num_hidden_layers': 2, 'dropout': 0.39128740896707803, 'weight_decay': 0.03429280425870818, 'lr': 2.0690307371487055e-05}. Best is trial 21 with value: 2.6516592697589658e-05.\n"
     ]
    },
    {
     "name": "stdout",
     "output_type": "stream",
     "text": [
      "Trial 22 finished with value: 2.65171784121776e-05 and parameters: {'num_hidden_layers': 2, 'dropout': 0.39128740896707803, 'weight_decay': 0.03429280425870818, 'lr': 2.0690307371487055e-05}. Best is trial 21 with value: 2.6516592697589658e-05.\n",
      "Using mps device\n"
     ]
    },
    {
     "name": "stderr",
     "output_type": "stream",
     "text": [
      "[I 2024-07-23 01:59:43,834] Trial 23 finished with value: 2.651654176588636e-05 and parameters: {'num_hidden_layers': 3, 'dropout': 0.3639101126326054, 'weight_decay': 0.031703553428942814, 'lr': 1.0316218043310113e-05}. Best is trial 23 with value: 2.651654176588636e-05.\n"
     ]
    },
    {
     "name": "stdout",
     "output_type": "stream",
     "text": [
      "Trial 23 finished with value: 2.651654176588636e-05 and parameters: {'num_hidden_layers': 3, 'dropout': 0.3639101126326054, 'weight_decay': 0.031703553428942814, 'lr': 1.0316218043310113e-05}. Best is trial 23 with value: 2.651654176588636e-05.\n",
      "Using mps device\n"
     ]
    },
    {
     "name": "stderr",
     "output_type": "stream",
     "text": [
      "[I 2024-07-23 02:14:13,423] Trial 24 finished with value: 2.6517518563196063e-05 and parameters: {'num_hidden_layers': 3, 'dropout': 0.3105847083868622, 'weight_decay': 0.05645314270944317, 'lr': 2.742593995947133e-05}. Best is trial 23 with value: 2.651654176588636e-05.\n"
     ]
    },
    {
     "name": "stdout",
     "output_type": "stream",
     "text": [
      "Trial 24 finished with value: 2.6517518563196063e-05 and parameters: {'num_hidden_layers': 3, 'dropout': 0.3105847083868622, 'weight_decay': 0.05645314270944317, 'lr': 2.742593995947133e-05}. Best is trial 23 with value: 2.651654176588636e-05.\n",
      "Using mps device\n"
     ]
    },
    {
     "name": "stderr",
     "output_type": "stream",
     "text": [
      "[I 2024-07-23 02:17:00,122] Trial 25 finished with value: 2.6660474759410135e-05 and parameters: {'num_hidden_layers': 3, 'dropout': 0.4338356009394709, 'weight_decay': 0.03246569743477358, 'lr': 0.00029649081851706343}. Best is trial 23 with value: 2.651654176588636e-05.\n"
     ]
    },
    {
     "name": "stdout",
     "output_type": "stream",
     "text": [
      "Trial 25 finished with value: 2.6660474759410135e-05 and parameters: {'num_hidden_layers': 3, 'dropout': 0.4338356009394709, 'weight_decay': 0.03246569743477358, 'lr': 0.00029649081851706343}. Best is trial 23 with value: 2.651654176588636e-05.\n",
      "Using mps device\n"
     ]
    },
    {
     "name": "stderr",
     "output_type": "stream",
     "text": [
      "[I 2024-07-23 02:23:24,561] Trial 26 finished with value: 2.660471545823384e-05 and parameters: {'num_hidden_layers': 3, 'dropout': 0.23363063342306692, 'weight_decay': 0.015719733901502404, 'lr': 6.962569841587317e-05}. Best is trial 23 with value: 2.651654176588636e-05.\n"
     ]
    },
    {
     "name": "stdout",
     "output_type": "stream",
     "text": [
      "Trial 26 finished with value: 2.660471545823384e-05 and parameters: {'num_hidden_layers': 3, 'dropout': 0.23363063342306692, 'weight_decay': 0.015719733901502404, 'lr': 6.962569841587317e-05}. Best is trial 23 with value: 2.651654176588636e-05.\n",
      "Using mps device\n"
     ]
    },
    {
     "name": "stderr",
     "output_type": "stream",
     "text": [
      "[I 2024-07-23 03:05:13,386] Trial 27 finished with value: 2.651668000908103e-05 and parameters: {'num_hidden_layers': 4, 'dropout': 0.36189325176416354, 'weight_decay': 0.0867479642501121, 'lr': 1.0276596448849386e-05}. Best is trial 23 with value: 2.651654176588636e-05.\n"
     ]
    },
    {
     "name": "stdout",
     "output_type": "stream",
     "text": [
      "Trial 27 finished with value: 2.651668000908103e-05 and parameters: {'num_hidden_layers': 4, 'dropout': 0.36189325176416354, 'weight_decay': 0.0867479642501121, 'lr': 1.0276596448849386e-05}. Best is trial 23 with value: 2.651654176588636e-05.\n",
      "Using mps device\n"
     ]
    },
    {
     "name": "stderr",
     "output_type": "stream",
     "text": [
      "[I 2024-07-23 03:31:50,284] Trial 28 finished with value: 2.651716386026237e-05 and parameters: {'num_hidden_layers': 4, 'dropout': 0.3558023694818156, 'weight_decay': 0.09505873157203093, 'lr': 2.151632790221064e-05}. Best is trial 23 with value: 2.651654176588636e-05.\n"
     ]
    },
    {
     "name": "stdout",
     "output_type": "stream",
     "text": [
      "Trial 28 finished with value: 2.651716386026237e-05 and parameters: {'num_hidden_layers': 4, 'dropout': 0.3558023694818156, 'weight_decay': 0.09505873157203093, 'lr': 2.151632790221064e-05}. Best is trial 23 with value: 2.651654176588636e-05.\n",
      "Using mps device\n"
     ]
    },
    {
     "name": "stderr",
     "output_type": "stream",
     "text": [
      "[I 2024-07-23 03:38:46,376] Trial 29 finished with value: 2.6519113816902973e-05 and parameters: {'num_hidden_layers': 4, 'dropout': 0.27735126387773035, 'weight_decay': 0.0844699593447601, 'lr': 0.00010079557711145644}. Best is trial 23 with value: 2.651654176588636e-05.\n"
     ]
    },
    {
     "name": "stdout",
     "output_type": "stream",
     "text": [
      "Trial 29 finished with value: 2.6519113816902973e-05 and parameters: {'num_hidden_layers': 4, 'dropout': 0.27735126387773035, 'weight_decay': 0.0844699593447601, 'lr': 0.00010079557711145644}. Best is trial 23 with value: 2.651654176588636e-05.\n",
      "Using mps device\n"
     ]
    },
    {
     "name": "stderr",
     "output_type": "stream",
     "text": [
      "[I 2024-07-23 03:41:15,070] Trial 30 finished with value: 3.102140544797294e-05 and parameters: {'num_hidden_layers': 4, 'dropout': 0.42146168733434675, 'weight_decay': 0.07611702713479383, 'lr': 0.0022186600919547237}. Best is trial 23 with value: 2.651654176588636e-05.\n"
     ]
    },
    {
     "name": "stdout",
     "output_type": "stream",
     "text": [
      "Trial 30 finished with value: 3.102140544797294e-05 and parameters: {'num_hidden_layers': 4, 'dropout': 0.42146168733434675, 'weight_decay': 0.07611702713479383, 'lr': 0.0022186600919547237}. Best is trial 23 with value: 2.651654176588636e-05.\n",
      "Using mps device\n"
     ]
    },
    {
     "name": "stderr",
     "output_type": "stream",
     "text": [
      "[I 2024-07-23 04:15:28,188] Trial 31 finished with value: 2.6516536308918148e-05 and parameters: {'num_hidden_layers': 3, 'dropout': 0.307823586159361, 'weight_decay': 0.04445290855207063, 'lr': 1.0859626584182689e-05}. Best is trial 31 with value: 2.6516536308918148e-05.\n"
     ]
    },
    {
     "name": "stdout",
     "output_type": "stream",
     "text": [
      "Trial 31 finished with value: 2.6516536308918148e-05 and parameters: {'num_hidden_layers': 3, 'dropout': 0.307823586159361, 'weight_decay': 0.04445290855207063, 'lr': 1.0859626584182689e-05}. Best is trial 31 with value: 2.6516536308918148e-05.\n",
      "Using mps device\n"
     ]
    },
    {
     "name": "stderr",
     "output_type": "stream",
     "text": [
      "[I 2024-07-23 04:24:58,363] Trial 32 finished with value: 2.6523204724071547e-05 and parameters: {'num_hidden_layers': 3, 'dropout': 0.3032141803366818, 'weight_decay': 0.04135725141355358, 'lr': 4.723801876178159e-05}. Best is trial 31 with value: 2.6516536308918148e-05.\n"
     ]
    },
    {
     "name": "stdout",
     "output_type": "stream",
     "text": [
      "Trial 32 finished with value: 2.6523204724071547e-05 and parameters: {'num_hidden_layers': 3, 'dropout': 0.3032141803366818, 'weight_decay': 0.04135725141355358, 'lr': 4.723801876178159e-05}. Best is trial 31 with value: 2.6516536308918148e-05.\n",
      "Using mps device\n"
     ]
    },
    {
     "name": "stderr",
     "output_type": "stream",
     "text": [
      "[I 2024-07-23 04:47:06,943] Trial 33 finished with value: 2.6517380320001394e-05 and parameters: {'num_hidden_layers': 3, 'dropout': 0.20741608142873713, 'weight_decay': 0.051272414084495246, 'lr': 1.920186555883304e-05}. Best is trial 31 with value: 2.6516536308918148e-05.\n"
     ]
    },
    {
     "name": "stdout",
     "output_type": "stream",
     "text": [
      "Trial 33 finished with value: 2.6517380320001394e-05 and parameters: {'num_hidden_layers': 3, 'dropout': 0.20741608142873713, 'weight_decay': 0.051272414084495246, 'lr': 1.920186555883304e-05}. Best is trial 31 with value: 2.6516536308918148e-05.\n",
      "Using mps device\n"
     ]
    },
    {
     "name": "stderr",
     "output_type": "stream",
     "text": [
      "[I 2024-07-23 05:21:03,494] Trial 34 finished with value: 2.6516738216741942e-05 and parameters: {'num_hidden_layers': 5, 'dropout': 0.3526964248830717, 'weight_decay': 0.04634934940752936, 'lr': 1.9682478953370554e-05}. Best is trial 31 with value: 2.6516536308918148e-05.\n"
     ]
    },
    {
     "name": "stdout",
     "output_type": "stream",
     "text": [
      "Trial 34 finished with value: 2.6516738216741942e-05 and parameters: {'num_hidden_layers': 5, 'dropout': 0.3526964248830717, 'weight_decay': 0.04634934940752936, 'lr': 1.9682478953370554e-05}. Best is trial 31 with value: 2.6516536308918148e-05.\n",
      "Using mps device\n"
     ]
    },
    {
     "name": "stderr",
     "output_type": "stream",
     "text": [
      "[I 2024-07-23 05:33:37,056] Trial 35 finished with value: 2.6518504455452785e-05 and parameters: {'num_hidden_layers': 4, 'dropout': 0.4563782383006689, 'weight_decay': 0.05130448057848, 'lr': 4.634725423079928e-05}. Best is trial 31 with value: 2.6516536308918148e-05.\n"
     ]
    },
    {
     "name": "stdout",
     "output_type": "stream",
     "text": [
      "Trial 35 finished with value: 2.6518504455452785e-05 and parameters: {'num_hidden_layers': 4, 'dropout': 0.4563782383006689, 'weight_decay': 0.05130448057848, 'lr': 4.634725423079928e-05}. Best is trial 31 with value: 2.6516536308918148e-05.\n",
      "Using mps device\n"
     ]
    },
    {
     "name": "stderr",
     "output_type": "stream",
     "text": [
      "[I 2024-07-23 06:09:17,832] Trial 36 finished with value: 2.6516610887483694e-05 and parameters: {'num_hidden_layers': 3, 'dropout': 0.30489334546429925, 'weight_decay': 0.0726138168585315, 'lr': 1.0229404241261126e-05}. Best is trial 31 with value: 2.6516536308918148e-05.\n"
     ]
    },
    {
     "name": "stdout",
     "output_type": "stream",
     "text": [
      "Trial 36 finished with value: 2.6516610887483694e-05 and parameters: {'num_hidden_layers': 3, 'dropout': 0.30489334546429925, 'weight_decay': 0.0726138168585315, 'lr': 1.0229404241261126e-05}. Best is trial 31 with value: 2.6516536308918148e-05.\n",
      "Using mps device\n"
     ]
    },
    {
     "name": "stderr",
     "output_type": "stream",
     "text": [
      "[I 2024-07-23 06:20:47,909] Trial 37 finished with value: 2.6523110136622563e-05 and parameters: {'num_hidden_layers': 3, 'dropout': 0.17716220590442255, 'weight_decay': 0.06556284229909319, 'lr': 3.705193815158519e-05}. Best is trial 31 with value: 2.6516536308918148e-05.\n"
     ]
    },
    {
     "name": "stdout",
     "output_type": "stream",
     "text": [
      "Trial 37 finished with value: 2.6523110136622563e-05 and parameters: {'num_hidden_layers': 3, 'dropout': 0.17716220590442255, 'weight_decay': 0.06556284229909319, 'lr': 3.705193815158519e-05}. Best is trial 31 with value: 2.6516536308918148e-05.\n",
      "Using mps device\n"
     ]
    },
    {
     "name": "stderr",
     "output_type": "stream",
     "text": [
      "[I 2024-07-23 06:45:50,200] Trial 38 finished with value: 2.6520996470935643e-05 and parameters: {'num_hidden_layers': 3, 'dropout': 0.0005940553145691863, 'weight_decay': 0.057136606791691955, 'lr': 1.5247067276426112e-05}. Best is trial 31 with value: 2.6516536308918148e-05.\n"
     ]
    },
    {
     "name": "stdout",
     "output_type": "stream",
     "text": [
      "Trial 38 finished with value: 2.6520996470935643e-05 and parameters: {'num_hidden_layers': 3, 'dropout': 0.0005940553145691863, 'weight_decay': 0.057136606791691955, 'lr': 1.5247067276426112e-05}. Best is trial 31 with value: 2.6516536308918148e-05.\n",
      "Using mps device\n"
     ]
    },
    {
     "name": "stderr",
     "output_type": "stream",
     "text": [
      "[I 2024-07-23 06:50:09,915] Trial 39 finished with value: 2.6522797270445153e-05 and parameters: {'num_hidden_layers': 3, 'dropout': 0.29233165196125355, 'weight_decay': 0.06887866065076306, 'lr': 0.00013084476390842151}. Best is trial 31 with value: 2.6516536308918148e-05.\n"
     ]
    },
    {
     "name": "stdout",
     "output_type": "stream",
     "text": [
      "Trial 39 finished with value: 2.6522797270445153e-05 and parameters: {'num_hidden_layers': 3, 'dropout': 0.29233165196125355, 'weight_decay': 0.06887866065076306, 'lr': 0.00013084476390842151}. Best is trial 31 with value: 2.6516536308918148e-05.\n",
      "Using mps device\n"
     ]
    },
    {
     "name": "stderr",
     "output_type": "stream",
     "text": [
      "[I 2024-07-23 06:56:40,521] Trial 40 finished with value: 2.6536043151281774e-05 and parameters: {'num_hidden_layers': 3, 'dropout': 0.330256115388127, 'weight_decay': 0.038170777362675885, 'lr': 6.524662274909341e-05}. Best is trial 31 with value: 2.6516536308918148e-05.\n"
     ]
    },
    {
     "name": "stdout",
     "output_type": "stream",
     "text": [
      "Trial 40 finished with value: 2.6536043151281774e-05 and parameters: {'num_hidden_layers': 3, 'dropout': 0.330256115388127, 'weight_decay': 0.038170777362675885, 'lr': 6.524662274909341e-05}. Best is trial 31 with value: 2.6516536308918148e-05.\n",
      "Using mps device\n"
     ]
    },
    {
     "name": "stderr",
     "output_type": "stream",
     "text": [
      "[I 2024-07-23 07:51:43,381] Trial 41 finished with value: 2.6516945581533946e-05 and parameters: {'num_hidden_layers': 5, 'dropout': 0.256002657862343, 'weight_decay': 0.08578008696856157, 'lr': 1.0796475728442135e-05}. Best is trial 31 with value: 2.6516536308918148e-05.\n"
     ]
    },
    {
     "name": "stdout",
     "output_type": "stream",
     "text": [
      "Trial 41 finished with value: 2.6516945581533946e-05 and parameters: {'num_hidden_layers': 5, 'dropout': 0.256002657862343, 'weight_decay': 0.08578008696856157, 'lr': 1.0796475728442135e-05}. Best is trial 31 with value: 2.6516536308918148e-05.\n",
      "Using mps device\n"
     ]
    },
    {
     "name": "stderr",
     "output_type": "stream",
     "text": [
      "[I 2024-07-23 08:23:41,223] Trial 42 finished with value: 2.6516740035731345e-05 and parameters: {'num_hidden_layers': 4, 'dropout': 0.3699293561333562, 'weight_decay': 0.08211802190385721, 'lr': 1.6751371104484385e-05}. Best is trial 31 with value: 2.6516536308918148e-05.\n"
     ]
    },
    {
     "name": "stdout",
     "output_type": "stream",
     "text": [
      "Trial 42 finished with value: 2.6516740035731345e-05 and parameters: {'num_hidden_layers': 4, 'dropout': 0.3699293561333562, 'weight_decay': 0.08211802190385721, 'lr': 1.6751371104484385e-05}. Best is trial 31 with value: 2.6516536308918148e-05.\n",
      "Using mps device\n"
     ]
    },
    {
     "name": "stderr",
     "output_type": "stream",
     "text": [
      "[I 2024-07-23 08:41:58,952] Trial 43 finished with value: 2.6517313017393462e-05 and parameters: {'num_hidden_layers': 4, 'dropout': 0.41610937207289644, 'weight_decay': 0.09016138565326681, 'lr': 3.1750863855365556e-05}. Best is trial 31 with value: 2.6516536308918148e-05.\n"
     ]
    },
    {
     "name": "stdout",
     "output_type": "stream",
     "text": [
      "Trial 43 finished with value: 2.6517313017393462e-05 and parameters: {'num_hidden_layers': 4, 'dropout': 0.41610937207289644, 'weight_decay': 0.09016138565326681, 'lr': 3.1750863855365556e-05}. Best is trial 31 with value: 2.6516536308918148e-05.\n",
      "Using mps device\n"
     ]
    },
    {
     "name": "stderr",
     "output_type": "stream",
     "text": [
      "[I 2024-07-23 08:53:42,021] Trial 44 finished with value: 2.6516780053498223e-05 and parameters: {'num_hidden_layers': 1, 'dropout': 0.33609622222838104, 'weight_decay': 0.07715357149834205, 'lr': 1.5034210177226216e-05}. Best is trial 31 with value: 2.6516536308918148e-05.\n"
     ]
    },
    {
     "name": "stdout",
     "output_type": "stream",
     "text": [
      "Trial 44 finished with value: 2.6516780053498223e-05 and parameters: {'num_hidden_layers': 1, 'dropout': 0.33609622222838104, 'weight_decay': 0.07715357149834205, 'lr': 1.5034210177226216e-05}. Best is trial 31 with value: 2.6516536308918148e-05.\n",
      "Using mps device\n"
     ]
    },
    {
     "name": "stderr",
     "output_type": "stream",
     "text": [
      "[I 2024-07-23 09:24:42,840] Trial 45 finished with value: 2.6517076548771e-05 and parameters: {'num_hidden_layers': 3, 'dropout': 0.2520619941846478, 'weight_decay': 0.09829325737890456, 'lr': 1.1062503031945827e-05}. Best is trial 31 with value: 2.6516536308918148e-05.\n"
     ]
    },
    {
     "name": "stdout",
     "output_type": "stream",
     "text": [
      "Trial 45 finished with value: 2.6517076548771e-05 and parameters: {'num_hidden_layers': 3, 'dropout': 0.2520619941846478, 'weight_decay': 0.09829325737890456, 'lr': 1.1062503031945827e-05}. Best is trial 31 with value: 2.6516536308918148e-05.\n",
      "Using mps device\n"
     ]
    },
    {
     "name": "stderr",
     "output_type": "stream",
     "text": [
      "[I 2024-07-23 09:26:39,221] Trial 46 finished with value: 2.6791583877638914e-05 and parameters: {'num_hidden_layers': 4, 'dropout': 0.30085350687837964, 'weight_decay': 0.04501813925121596, 'lr': 0.0007064471124272105}. Best is trial 31 with value: 2.6516536308918148e-05.\n"
     ]
    },
    {
     "name": "stdout",
     "output_type": "stream",
     "text": [
      "Trial 46 finished with value: 2.6791583877638914e-05 and parameters: {'num_hidden_layers': 4, 'dropout': 0.30085350687837964, 'weight_decay': 0.04501813925121596, 'lr': 0.0007064471124272105}. Best is trial 31 with value: 2.6516536308918148e-05.\n",
      "Using mps device\n"
     ]
    },
    {
     "name": "stderr",
     "output_type": "stream",
     "text": [
      "[I 2024-07-23 09:28:25,712] Trial 47 finished with value: 2.7036399842472747e-05 and parameters: {'num_hidden_layers': 2, 'dropout': 0.3627586354221397, 'weight_decay': 0.03705855517624504, 'lr': 0.013737814549274942}. Best is trial 31 with value: 2.6516536308918148e-05.\n"
     ]
    },
    {
     "name": "stdout",
     "output_type": "stream",
     "text": [
      "Trial 47 finished with value: 2.7036399842472747e-05 and parameters: {'num_hidden_layers': 2, 'dropout': 0.3627586354221397, 'weight_decay': 0.03705855517624504, 'lr': 0.013737814549274942}. Best is trial 31 with value: 2.6516536308918148e-05.\n",
      "Using mps device\n"
     ]
    },
    {
     "name": "stderr",
     "output_type": "stream",
     "text": [
      "[I 2024-07-23 09:51:35,878] Trial 48 finished with value: 2.651682916621212e-05 and parameters: {'num_hidden_layers': 2, 'dropout': 0.3148614449125741, 'weight_decay': 0.030559149183964258, 'lr': 1.0233516760387802e-05}. Best is trial 31 with value: 2.6516536308918148e-05.\n"
     ]
    },
    {
     "name": "stdout",
     "output_type": "stream",
     "text": [
      "Trial 48 finished with value: 2.651682916621212e-05 and parameters: {'num_hidden_layers': 2, 'dropout': 0.3148614449125741, 'weight_decay': 0.030559149183964258, 'lr': 1.0233516760387802e-05}. Best is trial 31 with value: 2.6516536308918148e-05.\n",
      "Using mps device\n"
     ]
    },
    {
     "name": "stderr",
     "output_type": "stream",
     "text": [
      "[I 2024-07-23 09:52:42,578] Trial 49 finished with value: 8.872968673706055 and parameters: {'num_hidden_layers': 3, 'dropout': 0.22420263069528557, 'weight_decay': 0.07331532376772935, 'lr': 0.08122337289393156}. Best is trial 31 with value: 2.6516536308918148e-05.\n"
     ]
    },
    {
     "name": "stdout",
     "output_type": "stream",
     "text": [
      "Trial 49 finished with value: 8.872968673706055 and parameters: {'num_hidden_layers': 3, 'dropout': 0.22420263069528557, 'weight_decay': 0.07331532376772935, 'lr': 0.08122337289393156}. Best is trial 31 with value: 2.6516536308918148e-05.\n",
      "Using mps device\n"
     ]
    },
    {
     "name": "stderr",
     "output_type": "stream",
     "text": [
      "[I 2024-07-23 09:54:27,521] Trial 50 finished with value: 0.00973785575479269 and parameters: {'num_hidden_layers': 4, 'dropout': 0.3309096935326856, 'weight_decay': 0.06034842097460934, 'lr': 0.007262882168469962}. Best is trial 31 with value: 2.6516536308918148e-05.\n"
     ]
    },
    {
     "name": "stdout",
     "output_type": "stream",
     "text": [
      "Trial 50 finished with value: 0.00973785575479269 and parameters: {'num_hidden_layers': 4, 'dropout': 0.3309096935326856, 'weight_decay': 0.06034842097460934, 'lr': 0.007262882168469962}. Best is trial 31 with value: 2.6516536308918148e-05.\n",
      "Using mps device\n"
     ]
    },
    {
     "name": "stderr",
     "output_type": "stream",
     "text": [
      "[W 2024-07-23 09:59:31,043] Trial 51 failed with parameters: {'num_hidden_layers': 5, 'dropout': 0.3492118367027861, 'weight_decay': 0.046032161711478635, 'lr': 1.7335012175215987e-05} because of the following error: KeyboardInterrupt().\n",
      "Traceback (most recent call last):\n",
      "  File \"/opt/miniconda3/envs/ww/lib/python3.9/site-packages/optuna/study/_optimize.py\", line 196, in _run_trial\n",
      "    value_or_values = func(trial)\n",
      "  File \"/Users/DannyPang/Desktop/bioinfmsc/diss/model_baseline.py\", line 263, in <lambda>\n",
      "    self.study.optimize(lambda trial: self._objective(trial, config), n_trials=n_trials)\n",
      "  File \"/Users/DannyPang/Desktop/bioinfmsc/diss/model_baseline.py\", line 205, in _objective\n",
      "    train_losses, val_losses = model.fit(\n",
      "  File \"/Users/DannyPang/Desktop/bioinfmsc/diss/model_baseline.py\", line 81, in fit\n",
      "    train_loss += loss.item()\n",
      "KeyboardInterrupt\n"
     ]
    },
    {
     "name": "stdout",
     "output_type": "stream",
     "text": [
      "Trial 51 failed with parameters: {'num_hidden_layers': 5, 'dropout': 0.3492118367027861, 'weight_decay': 0.046032161711478635, 'lr': 1.7335012175215987e-05} because of the following error: KeyboardInterrupt().\n",
      "Traceback (most recent call last):\n",
      "  File \"/opt/miniconda3/envs/ww/lib/python3.9/site-packages/optuna/study/_optimize.py\", line 196, in _run_trial\n",
      "    value_or_values = func(trial)\n",
      "  File \"/Users/DannyPang/Desktop/bioinfmsc/diss/model_baseline.py\", line 263, in <lambda>\n",
      "    self.study.optimize(lambda trial: self._objective(trial, config), n_trials=n_trials)\n",
      "  File \"/Users/DannyPang/Desktop/bioinfmsc/diss/model_baseline.py\", line 205, in _objective\n",
      "    train_losses, val_losses = model.fit(\n",
      "  File \"/Users/DannyPang/Desktop/bioinfmsc/diss/model_baseline.py\", line 81, in fit\n",
      "    train_loss += loss.item()\n",
      "KeyboardInterrupt\n"
     ]
    },
    {
     "name": "stderr",
     "output_type": "stream",
     "text": [
      "[W 2024-07-23 09:59:31,044] Trial 51 failed with value None.\n"
     ]
    },
    {
     "name": "stdout",
     "output_type": "stream",
     "text": [
      "Trial 51 failed with value None.\n"
     ]
    },
    {
     "ename": "KeyboardInterrupt",
     "evalue": "",
     "output_type": "error",
     "traceback": [
      "\u001b[0;31m---------------------------------------------------------------------------\u001b[0m",
      "\u001b[0;31mKeyboardInterrupt\u001b[0m                         Traceback (most recent call last)",
      "Cell \u001b[0;32mIn[9], line 13\u001b[0m\n\u001b[1;32m     10\u001b[0m model \u001b[38;5;241m=\u001b[39m SNV2LinFreqs(train_loader, test_loader, input_size, output_size, device)\n\u001b[1;32m     12\u001b[0m \u001b[38;5;66;03m# Perform optimization\u001b[39;00m\n\u001b[0;32m---> 13\u001b[0m best_params \u001b[38;5;241m=\u001b[39m \u001b[43mmodel\u001b[49m\u001b[38;5;241;43m.\u001b[39;49m\u001b[43moptimize\u001b[49m\u001b[43m(\u001b[49m\u001b[43mn_trials\u001b[49m\u001b[38;5;241;43m=\u001b[39;49m\u001b[38;5;241;43m100\u001b[39;49m\u001b[43m,\u001b[49m\u001b[43m \u001b[49m\u001b[43mconfig\u001b[49m\u001b[38;5;241;43m=\u001b[39;49m\u001b[43mconfig\u001b[49m\u001b[43m,\u001b[49m\u001b[43m \u001b[49m\u001b[43mpruner\u001b[49m\u001b[38;5;241;43m=\u001b[39;49m\u001b[38;5;28;43;01mTrue\u001b[39;49;00m\u001b[43m)\u001b[49m\n\u001b[1;32m     15\u001b[0m \u001b[38;5;28mprint\u001b[39m(\u001b[38;5;124m'\u001b[39m\u001b[38;5;124mBest parameters:\u001b[39m\u001b[38;5;124m'\u001b[39m, best_params)\n\u001b[1;32m     17\u001b[0m model\u001b[38;5;241m.\u001b[39mplot_trials(params\u001b[38;5;241m.\u001b[39mprefix)\n",
      "File \u001b[0;32m~/Desktop/bioinfmsc/diss/model_baseline.py:263\u001b[0m, in \u001b[0;36mSNV2LinFreqs.optimize\u001b[0;34m(self, n_trials, config, warmup_steps, pruner)\u001b[0m\n\u001b[1;32m    259\u001b[0m \u001b[38;5;28mself\u001b[39m\u001b[38;5;241m.\u001b[39mstorage_name \u001b[38;5;241m=\u001b[39m \u001b[38;5;124m\"\u001b[39m\u001b[38;5;124msqlite:///\u001b[39m\u001b[38;5;132;01m{}\u001b[39;00m\u001b[38;5;124m.db\u001b[39m\u001b[38;5;124m\"\u001b[39m\u001b[38;5;241m.\u001b[39mformat(\u001b[38;5;28mself\u001b[39m\u001b[38;5;241m.\u001b[39mstudy_name)\n\u001b[1;32m    261\u001b[0m \u001b[38;5;28mself\u001b[39m\u001b[38;5;241m.\u001b[39mstudy \u001b[38;5;241m=\u001b[39m optuna\u001b[38;5;241m.\u001b[39mcreate_study(direction\u001b[38;5;241m=\u001b[39m\u001b[38;5;124m'\u001b[39m\u001b[38;5;124mminimize\u001b[39m\u001b[38;5;124m'\u001b[39m, sampler\u001b[38;5;241m=\u001b[39msampler, pruner\u001b[38;5;241m=\u001b[39mpruner, \n\u001b[1;32m    262\u001b[0m                                  study_name\u001b[38;5;241m=\u001b[39m\u001b[38;5;28mself\u001b[39m\u001b[38;5;241m.\u001b[39mstudy_name, storage\u001b[38;5;241m=\u001b[39m\u001b[38;5;28mself\u001b[39m\u001b[38;5;241m.\u001b[39mstorage_name)\n\u001b[0;32m--> 263\u001b[0m \u001b[38;5;28;43mself\u001b[39;49m\u001b[38;5;241;43m.\u001b[39;49m\u001b[43mstudy\u001b[49m\u001b[38;5;241;43m.\u001b[39;49m\u001b[43moptimize\u001b[49m\u001b[43m(\u001b[49m\u001b[38;5;28;43;01mlambda\u001b[39;49;00m\u001b[43m \u001b[49m\u001b[43mtrial\u001b[49m\u001b[43m:\u001b[49m\u001b[43m \u001b[49m\u001b[38;5;28;43mself\u001b[39;49m\u001b[38;5;241;43m.\u001b[39;49m\u001b[43m_objective\u001b[49m\u001b[43m(\u001b[49m\u001b[43mtrial\u001b[49m\u001b[43m,\u001b[49m\u001b[43m \u001b[49m\u001b[43mconfig\u001b[49m\u001b[43m)\u001b[49m\u001b[43m,\u001b[49m\u001b[43m \u001b[49m\u001b[43mn_trials\u001b[49m\u001b[38;5;241;43m=\u001b[39;49m\u001b[43mn_trials\u001b[49m\u001b[43m)\u001b[49m\n\u001b[1;32m    265\u001b[0m \u001b[38;5;66;03m# Print results\u001b[39;00m\n\u001b[1;32m    266\u001b[0m \u001b[38;5;28mprint\u001b[39m(\u001b[38;5;124m'\u001b[39m\u001b[38;5;124mNumber of finished trials:\u001b[39m\u001b[38;5;124m'\u001b[39m, \u001b[38;5;28mlen\u001b[39m(\u001b[38;5;28mself\u001b[39m\u001b[38;5;241m.\u001b[39mstudy\u001b[38;5;241m.\u001b[39mtrials))\n",
      "File \u001b[0;32m/opt/miniconda3/envs/ww/lib/python3.9/site-packages/optuna/study/study.py:451\u001b[0m, in \u001b[0;36mStudy.optimize\u001b[0;34m(self, func, n_trials, timeout, n_jobs, catch, callbacks, gc_after_trial, show_progress_bar)\u001b[0m\n\u001b[1;32m    348\u001b[0m \u001b[38;5;28;01mdef\u001b[39;00m \u001b[38;5;21moptimize\u001b[39m(\n\u001b[1;32m    349\u001b[0m     \u001b[38;5;28mself\u001b[39m,\n\u001b[1;32m    350\u001b[0m     func: ObjectiveFuncType,\n\u001b[0;32m   (...)\u001b[0m\n\u001b[1;32m    357\u001b[0m     show_progress_bar: \u001b[38;5;28mbool\u001b[39m \u001b[38;5;241m=\u001b[39m \u001b[38;5;28;01mFalse\u001b[39;00m,\n\u001b[1;32m    358\u001b[0m ) \u001b[38;5;241m-\u001b[39m\u001b[38;5;241m>\u001b[39m \u001b[38;5;28;01mNone\u001b[39;00m:\n\u001b[1;32m    359\u001b[0m \u001b[38;5;250m    \u001b[39m\u001b[38;5;124;03m\"\"\"Optimize an objective function.\u001b[39;00m\n\u001b[1;32m    360\u001b[0m \n\u001b[1;32m    361\u001b[0m \u001b[38;5;124;03m    Optimization is done by choosing a suitable set of hyperparameter values from a given\u001b[39;00m\n\u001b[0;32m   (...)\u001b[0m\n\u001b[1;32m    449\u001b[0m \u001b[38;5;124;03m            If nested invocation of this method occurs.\u001b[39;00m\n\u001b[1;32m    450\u001b[0m \u001b[38;5;124;03m    \"\"\"\u001b[39;00m\n\u001b[0;32m--> 451\u001b[0m     \u001b[43m_optimize\u001b[49m\u001b[43m(\u001b[49m\n\u001b[1;32m    452\u001b[0m \u001b[43m        \u001b[49m\u001b[43mstudy\u001b[49m\u001b[38;5;241;43m=\u001b[39;49m\u001b[38;5;28;43mself\u001b[39;49m\u001b[43m,\u001b[49m\n\u001b[1;32m    453\u001b[0m \u001b[43m        \u001b[49m\u001b[43mfunc\u001b[49m\u001b[38;5;241;43m=\u001b[39;49m\u001b[43mfunc\u001b[49m\u001b[43m,\u001b[49m\n\u001b[1;32m    454\u001b[0m \u001b[43m        \u001b[49m\u001b[43mn_trials\u001b[49m\u001b[38;5;241;43m=\u001b[39;49m\u001b[43mn_trials\u001b[49m\u001b[43m,\u001b[49m\n\u001b[1;32m    455\u001b[0m \u001b[43m        \u001b[49m\u001b[43mtimeout\u001b[49m\u001b[38;5;241;43m=\u001b[39;49m\u001b[43mtimeout\u001b[49m\u001b[43m,\u001b[49m\n\u001b[1;32m    456\u001b[0m \u001b[43m        \u001b[49m\u001b[43mn_jobs\u001b[49m\u001b[38;5;241;43m=\u001b[39;49m\u001b[43mn_jobs\u001b[49m\u001b[43m,\u001b[49m\n\u001b[1;32m    457\u001b[0m \u001b[43m        \u001b[49m\u001b[43mcatch\u001b[49m\u001b[38;5;241;43m=\u001b[39;49m\u001b[38;5;28;43mtuple\u001b[39;49m\u001b[43m(\u001b[49m\u001b[43mcatch\u001b[49m\u001b[43m)\u001b[49m\u001b[43m \u001b[49m\u001b[38;5;28;43;01mif\u001b[39;49;00m\u001b[43m \u001b[49m\u001b[38;5;28;43misinstance\u001b[39;49m\u001b[43m(\u001b[49m\u001b[43mcatch\u001b[49m\u001b[43m,\u001b[49m\u001b[43m \u001b[49m\u001b[43mIterable\u001b[49m\u001b[43m)\u001b[49m\u001b[43m \u001b[49m\u001b[38;5;28;43;01melse\u001b[39;49;00m\u001b[43m \u001b[49m\u001b[43m(\u001b[49m\u001b[43mcatch\u001b[49m\u001b[43m,\u001b[49m\u001b[43m)\u001b[49m\u001b[43m,\u001b[49m\n\u001b[1;32m    458\u001b[0m \u001b[43m        \u001b[49m\u001b[43mcallbacks\u001b[49m\u001b[38;5;241;43m=\u001b[39;49m\u001b[43mcallbacks\u001b[49m\u001b[43m,\u001b[49m\n\u001b[1;32m    459\u001b[0m \u001b[43m        \u001b[49m\u001b[43mgc_after_trial\u001b[49m\u001b[38;5;241;43m=\u001b[39;49m\u001b[43mgc_after_trial\u001b[49m\u001b[43m,\u001b[49m\n\u001b[1;32m    460\u001b[0m \u001b[43m        \u001b[49m\u001b[43mshow_progress_bar\u001b[49m\u001b[38;5;241;43m=\u001b[39;49m\u001b[43mshow_progress_bar\u001b[49m\u001b[43m,\u001b[49m\n\u001b[1;32m    461\u001b[0m \u001b[43m    \u001b[49m\u001b[43m)\u001b[49m\n",
      "File \u001b[0;32m/opt/miniconda3/envs/ww/lib/python3.9/site-packages/optuna/study/_optimize.py:62\u001b[0m, in \u001b[0;36m_optimize\u001b[0;34m(study, func, n_trials, timeout, n_jobs, catch, callbacks, gc_after_trial, show_progress_bar)\u001b[0m\n\u001b[1;32m     60\u001b[0m \u001b[38;5;28;01mtry\u001b[39;00m:\n\u001b[1;32m     61\u001b[0m     \u001b[38;5;28;01mif\u001b[39;00m n_jobs \u001b[38;5;241m==\u001b[39m \u001b[38;5;241m1\u001b[39m:\n\u001b[0;32m---> 62\u001b[0m         \u001b[43m_optimize_sequential\u001b[49m\u001b[43m(\u001b[49m\n\u001b[1;32m     63\u001b[0m \u001b[43m            \u001b[49m\u001b[43mstudy\u001b[49m\u001b[43m,\u001b[49m\n\u001b[1;32m     64\u001b[0m \u001b[43m            \u001b[49m\u001b[43mfunc\u001b[49m\u001b[43m,\u001b[49m\n\u001b[1;32m     65\u001b[0m \u001b[43m            \u001b[49m\u001b[43mn_trials\u001b[49m\u001b[43m,\u001b[49m\n\u001b[1;32m     66\u001b[0m \u001b[43m            \u001b[49m\u001b[43mtimeout\u001b[49m\u001b[43m,\u001b[49m\n\u001b[1;32m     67\u001b[0m \u001b[43m            \u001b[49m\u001b[43mcatch\u001b[49m\u001b[43m,\u001b[49m\n\u001b[1;32m     68\u001b[0m \u001b[43m            \u001b[49m\u001b[43mcallbacks\u001b[49m\u001b[43m,\u001b[49m\n\u001b[1;32m     69\u001b[0m \u001b[43m            \u001b[49m\u001b[43mgc_after_trial\u001b[49m\u001b[43m,\u001b[49m\n\u001b[1;32m     70\u001b[0m \u001b[43m            \u001b[49m\u001b[43mreseed_sampler_rng\u001b[49m\u001b[38;5;241;43m=\u001b[39;49m\u001b[38;5;28;43;01mFalse\u001b[39;49;00m\u001b[43m,\u001b[49m\n\u001b[1;32m     71\u001b[0m \u001b[43m            \u001b[49m\u001b[43mtime_start\u001b[49m\u001b[38;5;241;43m=\u001b[39;49m\u001b[38;5;28;43;01mNone\u001b[39;49;00m\u001b[43m,\u001b[49m\n\u001b[1;32m     72\u001b[0m \u001b[43m            \u001b[49m\u001b[43mprogress_bar\u001b[49m\u001b[38;5;241;43m=\u001b[39;49m\u001b[43mprogress_bar\u001b[49m\u001b[43m,\u001b[49m\n\u001b[1;32m     73\u001b[0m \u001b[43m        \u001b[49m\u001b[43m)\u001b[49m\n\u001b[1;32m     74\u001b[0m     \u001b[38;5;28;01melse\u001b[39;00m:\n\u001b[1;32m     75\u001b[0m         \u001b[38;5;28;01mif\u001b[39;00m n_jobs \u001b[38;5;241m==\u001b[39m \u001b[38;5;241m-\u001b[39m\u001b[38;5;241m1\u001b[39m:\n",
      "File \u001b[0;32m/opt/miniconda3/envs/ww/lib/python3.9/site-packages/optuna/study/_optimize.py:159\u001b[0m, in \u001b[0;36m_optimize_sequential\u001b[0;34m(study, func, n_trials, timeout, catch, callbacks, gc_after_trial, reseed_sampler_rng, time_start, progress_bar)\u001b[0m\n\u001b[1;32m    156\u001b[0m         \u001b[38;5;28;01mbreak\u001b[39;00m\n\u001b[1;32m    158\u001b[0m \u001b[38;5;28;01mtry\u001b[39;00m:\n\u001b[0;32m--> 159\u001b[0m     frozen_trial \u001b[38;5;241m=\u001b[39m \u001b[43m_run_trial\u001b[49m\u001b[43m(\u001b[49m\u001b[43mstudy\u001b[49m\u001b[43m,\u001b[49m\u001b[43m \u001b[49m\u001b[43mfunc\u001b[49m\u001b[43m,\u001b[49m\u001b[43m \u001b[49m\u001b[43mcatch\u001b[49m\u001b[43m)\u001b[49m\n\u001b[1;32m    160\u001b[0m \u001b[38;5;28;01mfinally\u001b[39;00m:\n\u001b[1;32m    161\u001b[0m     \u001b[38;5;66;03m# The following line mitigates memory problems that can be occurred in some\u001b[39;00m\n\u001b[1;32m    162\u001b[0m     \u001b[38;5;66;03m# environments (e.g., services that use computing containers such as GitHub Actions).\u001b[39;00m\n\u001b[1;32m    163\u001b[0m     \u001b[38;5;66;03m# Please refer to the following PR for further details:\u001b[39;00m\n\u001b[1;32m    164\u001b[0m     \u001b[38;5;66;03m# https://github.com/optuna/optuna/pull/325.\u001b[39;00m\n\u001b[1;32m    165\u001b[0m     \u001b[38;5;28;01mif\u001b[39;00m gc_after_trial:\n",
      "File \u001b[0;32m/opt/miniconda3/envs/ww/lib/python3.9/site-packages/optuna/study/_optimize.py:247\u001b[0m, in \u001b[0;36m_run_trial\u001b[0;34m(study, func, catch)\u001b[0m\n\u001b[1;32m    240\u001b[0m         \u001b[38;5;28;01massert\u001b[39;00m \u001b[38;5;28;01mFalse\u001b[39;00m, \u001b[38;5;124m\"\u001b[39m\u001b[38;5;124mShould not reach.\u001b[39m\u001b[38;5;124m\"\u001b[39m\n\u001b[1;32m    242\u001b[0m \u001b[38;5;28;01mif\u001b[39;00m (\n\u001b[1;32m    243\u001b[0m     frozen_trial\u001b[38;5;241m.\u001b[39mstate \u001b[38;5;241m==\u001b[39m TrialState\u001b[38;5;241m.\u001b[39mFAIL\n\u001b[1;32m    244\u001b[0m     \u001b[38;5;129;01mand\u001b[39;00m func_err \u001b[38;5;129;01mis\u001b[39;00m \u001b[38;5;129;01mnot\u001b[39;00m \u001b[38;5;28;01mNone\u001b[39;00m\n\u001b[1;32m    245\u001b[0m     \u001b[38;5;129;01mand\u001b[39;00m \u001b[38;5;129;01mnot\u001b[39;00m \u001b[38;5;28misinstance\u001b[39m(func_err, catch)\n\u001b[1;32m    246\u001b[0m ):\n\u001b[0;32m--> 247\u001b[0m     \u001b[38;5;28;01mraise\u001b[39;00m func_err\n\u001b[1;32m    248\u001b[0m \u001b[38;5;28;01mreturn\u001b[39;00m frozen_trial\n",
      "File \u001b[0;32m/opt/miniconda3/envs/ww/lib/python3.9/site-packages/optuna/study/_optimize.py:196\u001b[0m, in \u001b[0;36m_run_trial\u001b[0;34m(study, func, catch)\u001b[0m\n\u001b[1;32m    194\u001b[0m \u001b[38;5;28;01mwith\u001b[39;00m get_heartbeat_thread(trial\u001b[38;5;241m.\u001b[39m_trial_id, study\u001b[38;5;241m.\u001b[39m_storage):\n\u001b[1;32m    195\u001b[0m     \u001b[38;5;28;01mtry\u001b[39;00m:\n\u001b[0;32m--> 196\u001b[0m         value_or_values \u001b[38;5;241m=\u001b[39m \u001b[43mfunc\u001b[49m\u001b[43m(\u001b[49m\u001b[43mtrial\u001b[49m\u001b[43m)\u001b[49m\n\u001b[1;32m    197\u001b[0m     \u001b[38;5;28;01mexcept\u001b[39;00m exceptions\u001b[38;5;241m.\u001b[39mTrialPruned \u001b[38;5;28;01mas\u001b[39;00m e:\n\u001b[1;32m    198\u001b[0m         \u001b[38;5;66;03m# TODO(mamu): Handle multi-objective cases.\u001b[39;00m\n\u001b[1;32m    199\u001b[0m         state \u001b[38;5;241m=\u001b[39m TrialState\u001b[38;5;241m.\u001b[39mPRUNED\n",
      "File \u001b[0;32m~/Desktop/bioinfmsc/diss/model_baseline.py:263\u001b[0m, in \u001b[0;36mSNV2LinFreqs.optimize.<locals>.<lambda>\u001b[0;34m(trial)\u001b[0m\n\u001b[1;32m    259\u001b[0m \u001b[38;5;28mself\u001b[39m\u001b[38;5;241m.\u001b[39mstorage_name \u001b[38;5;241m=\u001b[39m \u001b[38;5;124m\"\u001b[39m\u001b[38;5;124msqlite:///\u001b[39m\u001b[38;5;132;01m{}\u001b[39;00m\u001b[38;5;124m.db\u001b[39m\u001b[38;5;124m\"\u001b[39m\u001b[38;5;241m.\u001b[39mformat(\u001b[38;5;28mself\u001b[39m\u001b[38;5;241m.\u001b[39mstudy_name)\n\u001b[1;32m    261\u001b[0m \u001b[38;5;28mself\u001b[39m\u001b[38;5;241m.\u001b[39mstudy \u001b[38;5;241m=\u001b[39m optuna\u001b[38;5;241m.\u001b[39mcreate_study(direction\u001b[38;5;241m=\u001b[39m\u001b[38;5;124m'\u001b[39m\u001b[38;5;124mminimize\u001b[39m\u001b[38;5;124m'\u001b[39m, sampler\u001b[38;5;241m=\u001b[39msampler, pruner\u001b[38;5;241m=\u001b[39mpruner, \n\u001b[1;32m    262\u001b[0m                                  study_name\u001b[38;5;241m=\u001b[39m\u001b[38;5;28mself\u001b[39m\u001b[38;5;241m.\u001b[39mstudy_name, storage\u001b[38;5;241m=\u001b[39m\u001b[38;5;28mself\u001b[39m\u001b[38;5;241m.\u001b[39mstorage_name)\n\u001b[0;32m--> 263\u001b[0m \u001b[38;5;28mself\u001b[39m\u001b[38;5;241m.\u001b[39mstudy\u001b[38;5;241m.\u001b[39moptimize(\u001b[38;5;28;01mlambda\u001b[39;00m trial: \u001b[38;5;28;43mself\u001b[39;49m\u001b[38;5;241;43m.\u001b[39;49m\u001b[43m_objective\u001b[49m\u001b[43m(\u001b[49m\u001b[43mtrial\u001b[49m\u001b[43m,\u001b[49m\u001b[43m \u001b[49m\u001b[43mconfig\u001b[49m\u001b[43m)\u001b[49m, n_trials\u001b[38;5;241m=\u001b[39mn_trials)\n\u001b[1;32m    265\u001b[0m \u001b[38;5;66;03m# Print results\u001b[39;00m\n\u001b[1;32m    266\u001b[0m \u001b[38;5;28mprint\u001b[39m(\u001b[38;5;124m'\u001b[39m\u001b[38;5;124mNumber of finished trials:\u001b[39m\u001b[38;5;124m'\u001b[39m, \u001b[38;5;28mlen\u001b[39m(\u001b[38;5;28mself\u001b[39m\u001b[38;5;241m.\u001b[39mstudy\u001b[38;5;241m.\u001b[39mtrials))\n",
      "File \u001b[0;32m~/Desktop/bioinfmsc/diss/model_baseline.py:205\u001b[0m, in \u001b[0;36mSNV2LinFreqs._objective\u001b[0;34m(self, trial, config)\u001b[0m\n\u001b[1;32m    198\u001b[0m patience\u001b[38;5;241m=\u001b[39mparsed_config[\u001b[38;5;124m'\u001b[39m\u001b[38;5;124mpatience\u001b[39m\u001b[38;5;124m'\u001b[39m]\n\u001b[1;32m    200\u001b[0m model \u001b[38;5;241m=\u001b[39m MLP(input_size\u001b[38;5;241m=\u001b[39m\u001b[38;5;28mself\u001b[39m\u001b[38;5;241m.\u001b[39minput_size, \n\u001b[1;32m    201\u001b[0m             num_hidden_layers\u001b[38;5;241m=\u001b[39mnum_hidden_layers, \n\u001b[1;32m    202\u001b[0m             output_size\u001b[38;5;241m=\u001b[39m\u001b[38;5;28mself\u001b[39m\u001b[38;5;241m.\u001b[39moutput_size, \n\u001b[1;32m    203\u001b[0m            dropout\u001b[38;5;241m=\u001b[39mdropout)\u001b[38;5;241m.\u001b[39mto(\u001b[38;5;28mself\u001b[39m\u001b[38;5;241m.\u001b[39mdevice)\n\u001b[0;32m--> 205\u001b[0m train_losses, val_losses \u001b[38;5;241m=\u001b[39m \u001b[43mmodel\u001b[49m\u001b[38;5;241;43m.\u001b[39;49m\u001b[43mfit\u001b[49m\u001b[43m(\u001b[49m\n\u001b[1;32m    206\u001b[0m \u001b[43m    \u001b[49m\u001b[38;5;28;43mself\u001b[39;49m\u001b[38;5;241;43m.\u001b[39;49m\u001b[43mtrain_loader\u001b[49m\u001b[43m,\u001b[49m\u001b[43m \u001b[49m\n\u001b[1;32m    207\u001b[0m \u001b[43m    \u001b[49m\u001b[38;5;28;43mself\u001b[39;49m\u001b[38;5;241;43m.\u001b[39;49m\u001b[43mtest_loader\u001b[49m\u001b[43m,\u001b[49m\u001b[43m \u001b[49m\n\u001b[1;32m    208\u001b[0m \u001b[43m    \u001b[49m\u001b[43mlearning_rate\u001b[49m\u001b[38;5;241;43m=\u001b[39;49m\u001b[43mlearning_rate\u001b[49m\u001b[43m,\u001b[49m\u001b[43m \u001b[49m\n\u001b[1;32m    209\u001b[0m \u001b[43m    \u001b[49m\u001b[43mweight_decay\u001b[49m\u001b[38;5;241;43m=\u001b[39;49m\u001b[43mweight_decay\u001b[49m\u001b[43m,\u001b[49m\n\u001b[1;32m    210\u001b[0m \u001b[43m    \u001b[49m\u001b[43mepochs\u001b[49m\u001b[38;5;241;43m=\u001b[39;49m\u001b[43mepochs\u001b[49m\u001b[43m,\u001b[49m\n\u001b[1;32m    211\u001b[0m \u001b[43m    \u001b[49m\u001b[43mpatience\u001b[49m\u001b[38;5;241;43m=\u001b[39;49m\u001b[43mpatience\u001b[49m\n\u001b[1;32m    212\u001b[0m \u001b[43m\u001b[49m\u001b[43m)\u001b[49m\n\u001b[1;32m    214\u001b[0m trial\u001b[38;5;241m.\u001b[39mset_user_attr(\u001b[38;5;124m'\u001b[39m\u001b[38;5;124mtrain_losses\u001b[39m\u001b[38;5;124m'\u001b[39m, train_losses)\n\u001b[1;32m    215\u001b[0m trial\u001b[38;5;241m.\u001b[39mset_user_attr(\u001b[38;5;124m'\u001b[39m\u001b[38;5;124mval_losses\u001b[39m\u001b[38;5;124m'\u001b[39m, val_losses)\n",
      "File \u001b[0;32m~/Desktop/bioinfmsc/diss/model_baseline.py:81\u001b[0m, in \u001b[0;36mMLP.fit\u001b[0;34m(self, train_loader, validation_loader, learning_rate, weight_decay, epochs, patience, device)\u001b[0m\n\u001b[1;32m     79\u001b[0m     loss\u001b[38;5;241m.\u001b[39mbackward()\n\u001b[1;32m     80\u001b[0m     \u001b[38;5;28mself\u001b[39m\u001b[38;5;241m.\u001b[39moptimizer\u001b[38;5;241m.\u001b[39mstep()\n\u001b[0;32m---> 81\u001b[0m     train_loss \u001b[38;5;241m+\u001b[39m\u001b[38;5;241m=\u001b[39m \u001b[43mloss\u001b[49m\u001b[38;5;241;43m.\u001b[39;49m\u001b[43mitem\u001b[49m\u001b[43m(\u001b[49m\u001b[43m)\u001b[49m\n\u001b[1;32m     83\u001b[0m avg_train_loss \u001b[38;5;241m=\u001b[39m train_loss \u001b[38;5;241m/\u001b[39m \u001b[38;5;28mlen\u001b[39m(\u001b[38;5;28mself\u001b[39m\u001b[38;5;241m.\u001b[39mtrain_dataloader)\n\u001b[1;32m     84\u001b[0m train_losses\u001b[38;5;241m.\u001b[39mappend(avg_train_loss)\n",
      "\u001b[0;31mKeyboardInterrupt\u001b[0m: "
     ]
    }
   ],
   "source": [
    "config = {\n",
    "        'num_hidden_layers': (1, 5),\n",
    "        'dropout': (0, 0.5),\n",
    "        'lr': (1e-5, 1e-1),\n",
    "        'weight_decay': (1e-5, 1e-1),\n",
    "        'epochs': 500,\n",
    "        'patience': 10, \n",
    "    }\n",
    "\n",
    "model = SNV2LinFreqs(train_loader, test_loader, input_size, output_size, device)\n",
    "\n",
    "# Perform optimization\n",
    "best_params = model.optimize(n_trials=100, config=config, pruner=True)\n",
    "\n",
    "print('Best parameters:', best_params)\n",
    "\n",
    "model.plot_trials(params.prefix)\n",
    "\n",
    "model.plot_loss(params.prefix)"
   ]
  },
  {
   "cell_type": "code",
   "execution_count": 12,
   "id": "5346b6ee-6903-431b-b592-13207771eb85",
   "metadata": {},
   "outputs": [
    {
     "name": "stderr",
     "output_type": "stream",
     "text": [
      "[I 2024-07-23 11:53:08,950] Using an existing study with name 'hyper_param_tuning_snv2linfreqs' instead of creating a new one.\n"
     ]
    },
    {
     "name": "stdout",
     "output_type": "stream",
     "text": [
      "Using an existing study with name 'hyper_param_tuning_snv2linfreqs' instead of creating a new one.\n"
     ]
    }
   ],
   "source": [
    "study_name='hyper_param_tuning_snv2linfreqs'\n",
    "\n",
    "study = optuna.create_study(study_name=study_name, \n",
    "                            storage=f'sqlite:///{study_name}.db', \n",
    "                            load_if_exists=True)"
   ]
  }
 ],
 "metadata": {
  "kernelspec": {
   "display_name": "Python 3 (ipykernel)",
   "language": "python",
   "name": "python3"
  },
  "language_info": {
   "codemirror_mode": {
    "name": "ipython",
    "version": 3
   },
   "file_extension": ".py",
   "mimetype": "text/x-python",
   "name": "python",
   "nbconvert_exporter": "python",
   "pygments_lexer": "ipython3",
   "version": "3.9.19"
  }
 },
 "nbformat": 4,
 "nbformat_minor": 5
}
