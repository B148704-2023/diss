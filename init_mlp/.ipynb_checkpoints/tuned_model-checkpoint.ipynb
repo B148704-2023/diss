{
 "cells": [
  {
   "cell_type": "code",
   "execution_count": 1,
   "id": "f8a57f66-a2ac-46d5-9a97-1f2b45bc8cbd",
   "metadata": {},
   "outputs": [],
   "source": [
    "import os \n",
    "import sys \n",
    "import numpy as np\n",
    "\n",
    "import torch\n",
    "import torch.nn as nn\n",
    "from torch.utils.data import DataLoader, TensorDataset, random_split"
   ]
  },
  {
   "cell_type": "code",
   "execution_count": 2,
   "id": "ccc444aa-4ca2-4b05-a058-79d042454490",
   "metadata": {},
   "outputs": [],
   "source": [
    "import matplotlib.pyplot as plt\n",
    "from model_tuned import DeconvolutionModel"
   ]
  },
  {
   "cell_type": "code",
   "execution_count": 3,
   "id": "c01e7047-9041-4510-a2c8-3015f995755f",
   "metadata": {},
   "outputs": [],
   "source": [
    "def add_gaussian_noise(tensor, device, mean=0, stddev=0.1):\n",
    "    noise=(torch.randn_like(tensor)*stddev+mean).to(device)\n",
    "    noised_tensor=tensor+noise\n",
    "    return noised_tensor"
   ]
  },
  {
   "cell_type": "code",
   "execution_count": 4,
   "id": "232ee0f1-3bd9-47d9-9232-bcba1cd5ac36",
   "metadata": {},
   "outputs": [
    {
     "name": "stdout",
     "output_type": "stream",
     "text": [
      "Using mps device\n"
     ]
    }
   ],
   "source": [
    "device = (\n",
    "        \"cuda\"\n",
    "        if torch.cuda.is_available()\n",
    "        else \"mps\"\n",
    "        if torch.backends.mps.is_available()\n",
    "        else \"cpu\"\n",
    "    )\n",
    "print(f\"Using {device} device\")\n",
    "\n",
    "n = 10000\n",
    "known_freqs_file = f'known_freqs_{n}.npy'\n",
    "snv_freqs_file = f'snv_freqs_{n}.npy'"
   ]
  },
  {
   "cell_type": "code",
   "execution_count": 5,
   "id": "ef3a78b9-363a-4c2f-a683-039ae0c73bf3",
   "metadata": {},
   "outputs": [],
   "source": [
    "X=np.load(known_freqs_file)\n",
    "y=np.load(snv_freqs_file)"
   ]
  },
  {
   "cell_type": "code",
   "execution_count": 6,
   "id": "e239dc0b-d56d-4c93-8e67-52569564e8d7",
   "metadata": {},
   "outputs": [],
   "source": [
    "known_freqs=torch.from_numpy(X).to(device)\n",
    "snv_freqs=torch.from_numpy(y).to(device)\n",
    "snv_freqs=add_gaussian_noise(snv_freqs, device)"
   ]
  },
  {
   "cell_type": "code",
   "execution_count": 7,
   "id": "81f6b8f1-df36-486b-b7b7-5828f121ec9f",
   "metadata": {},
   "outputs": [
    {
     "name": "stdout",
     "output_type": "stream",
     "text": [
      "Training set size: 8000\n",
      "Validation set size: 1000\n",
      "Test set size: 1000\n"
     ]
    }
   ],
   "source": [
    "dataset = TensorDataset(snv_freqs, known_freqs)\n",
    "\n",
    "total_size = len(dataset)\n",
    "test_size = total_size // 10  # 10% for test\n",
    "validation_size = total_size // 10  # 10% for validation\n",
    "train_size = total_size - test_size - validation_size  # 80% train\n",
    "\n",
    "# Split the dataset\n",
    "train_dataset, validation_dataset, test_dataset = random_split(\n",
    "        dataset, [train_size, validation_size, test_size]\n",
    "    )\n",
    "\n",
    "# verify sizes\n",
    "print(f\"Training set size: {len(train_dataset)}\")\n",
    "print(f\"Validation set size: {len(validation_dataset)}\")\n",
    "print(f\"Test set size: {len(test_dataset)}\")"
   ]
  },
  {
   "cell_type": "code",
   "execution_count": 8,
   "id": "1727412b-a2d8-4299-98aa-af16977d6f0d",
   "metadata": {},
   "outputs": [],
   "source": [
    "batch_size = 256  # Arbitrarily chosen\n",
    "train_loader = DataLoader(train_dataset, batch_size=batch_size, shuffle=False)\n",
    "validation_loader = DataLoader(validation_dataset, batch_size=batch_size, shuffle=False)\n",
    "test_loader = DataLoader(test_dataset, batch_size=batch_size, shuffle=False)"
   ]
  },
  {
   "cell_type": "code",
   "execution_count": 9,
   "id": "616bde21-48d1-484d-87b2-0a3b1d828d4e",
   "metadata": {},
   "outputs": [],
   "source": [
    "input_size = snv_freqs.shape[1]\n",
    "output_size = known_freqs.shape[1]"
   ]
  },
  {
   "cell_type": "code",
   "execution_count": 10,
   "id": "826c4445-76cb-4934-b741-e95cf86654fa",
   "metadata": {},
   "outputs": [
    {
     "name": "stdout",
     "output_type": "stream",
     "text": [
      "Using mps device\n"
     ]
    }
   ],
   "source": [
    "num_hidden_layers=3\n",
    "model = DeconvolutionModel(input_size, output_size, num_hidden_layers, device)"
   ]
  },
  {
   "cell_type": "code",
   "execution_count": 11,
   "id": "eb040568-a09d-4c40-be01-e28e318d463b",
   "metadata": {},
   "outputs": [
    {
     "name": "stdout",
     "output_type": "stream",
     "text": [
      "Epoch 1, Train loss:   5.535614, Validation loss:   2.159477\n",
      "Epoch 2, Train loss:   1.711765, Validation loss:   0.390158\n",
      "Epoch 3, Train loss:   1.388140, Validation loss:   0.620992\n",
      "Epoch 4, Train loss:   1.291914, Validation loss:   0.592009\n",
      "Epoch 5, Train loss:   1.187777, Validation loss:   0.628263\n",
      "Epoch 6, Train loss:   1.108185, Validation loss:   0.781816\n",
      "Epoch 7, Train loss:   1.221068, Validation loss:   0.937076\n",
      "Epoch 8, Train loss:   2.068734, Validation loss:   1.945298\n",
      "Epoch 9, Train loss:   1.820421, Validation loss:   1.917991\n",
      "Epoch 10, Train loss:   1.730608, Validation loss:   1.241640\n"
     ]
    },
    {
     "ename": "KeyboardInterrupt",
     "evalue": "",
     "output_type": "error",
     "traceback": [
      "\u001b[0;31m---------------------------------------------------------------------------\u001b[0m",
      "\u001b[0;31mKeyboardInterrupt\u001b[0m                         Traceback (most recent call last)",
      "Cell \u001b[0;32mIn[11], line 1\u001b[0m\n\u001b[0;32m----> 1\u001b[0m \u001b[43mmodel\u001b[49m\u001b[38;5;241;43m.\u001b[39;49m\u001b[43mfit\u001b[49m\u001b[43m(\u001b[49m\u001b[43mtrain_loader\u001b[49m\u001b[43m,\u001b[49m\u001b[43m \u001b[49m\u001b[43mvalidation_loader\u001b[49m\u001b[43m,\u001b[49m\u001b[43m \u001b[49m\u001b[43mepochs\u001b[49m\u001b[38;5;241;43m=\u001b[39;49m\u001b[38;5;241;43m1000\u001b[39;49m\u001b[43m)\u001b[49m\n\u001b[1;32m      3\u001b[0m \u001b[38;5;66;03m# Evaluate the model\u001b[39;00m\n\u001b[1;32m      4\u001b[0m model\u001b[38;5;241m.\u001b[39mevaluate(validation_loader)\n",
      "File \u001b[0;32m~/Desktop/bioinfmsc/diss/model_tuned.py:66\u001b[0m, in \u001b[0;36mDeconvolutionModel.fit\u001b[0;34m(self, train_dataloader, val_dataloader, epochs, patience)\u001b[0m\n\u001b[1;32m     64\u001b[0m \u001b[38;5;66;03m# Compute prediction and loss\u001b[39;00m\n\u001b[1;32m     65\u001b[0m pred \u001b[38;5;241m=\u001b[39m \u001b[38;5;28mself\u001b[39m\u001b[38;5;241m.\u001b[39mmodel(X)\n\u001b[0;32m---> 66\u001b[0m loss \u001b[38;5;241m=\u001b[39m \u001b[38;5;28;43mself\u001b[39;49m\u001b[38;5;241;43m.\u001b[39;49m\u001b[43mloss_fn\u001b[49m\u001b[43m(\u001b[49m\u001b[43mpred\u001b[49m\u001b[43m,\u001b[49m\u001b[43m \u001b[49m\u001b[43my\u001b[49m\u001b[43m)\u001b[49m\n\u001b[1;32m     68\u001b[0m \u001b[38;5;66;03m# Backpropagation\u001b[39;00m\n\u001b[1;32m     69\u001b[0m \u001b[38;5;28mself\u001b[39m\u001b[38;5;241m.\u001b[39moptimizer\u001b[38;5;241m.\u001b[39mzero_grad()\n",
      "File \u001b[0;32m/opt/miniconda3/envs/ww/lib/python3.9/site-packages/torch/nn/modules/module.py:1532\u001b[0m, in \u001b[0;36mModule._wrapped_call_impl\u001b[0;34m(self, *args, **kwargs)\u001b[0m\n\u001b[1;32m   1530\u001b[0m     \u001b[38;5;28;01mreturn\u001b[39;00m \u001b[38;5;28mself\u001b[39m\u001b[38;5;241m.\u001b[39m_compiled_call_impl(\u001b[38;5;241m*\u001b[39margs, \u001b[38;5;241m*\u001b[39m\u001b[38;5;241m*\u001b[39mkwargs)  \u001b[38;5;66;03m# type: ignore[misc]\u001b[39;00m\n\u001b[1;32m   1531\u001b[0m \u001b[38;5;28;01melse\u001b[39;00m:\n\u001b[0;32m-> 1532\u001b[0m     \u001b[38;5;28;01mreturn\u001b[39;00m \u001b[38;5;28;43mself\u001b[39;49m\u001b[38;5;241;43m.\u001b[39;49m\u001b[43m_call_impl\u001b[49m\u001b[43m(\u001b[49m\u001b[38;5;241;43m*\u001b[39;49m\u001b[43margs\u001b[49m\u001b[43m,\u001b[49m\u001b[43m \u001b[49m\u001b[38;5;241;43m*\u001b[39;49m\u001b[38;5;241;43m*\u001b[39;49m\u001b[43mkwargs\u001b[49m\u001b[43m)\u001b[49m\n",
      "File \u001b[0;32m/opt/miniconda3/envs/ww/lib/python3.9/site-packages/torch/nn/modules/module.py:1541\u001b[0m, in \u001b[0;36mModule._call_impl\u001b[0;34m(self, *args, **kwargs)\u001b[0m\n\u001b[1;32m   1536\u001b[0m \u001b[38;5;66;03m# If we don't have any hooks, we want to skip the rest of the logic in\u001b[39;00m\n\u001b[1;32m   1537\u001b[0m \u001b[38;5;66;03m# this function, and just call forward.\u001b[39;00m\n\u001b[1;32m   1538\u001b[0m \u001b[38;5;28;01mif\u001b[39;00m \u001b[38;5;129;01mnot\u001b[39;00m (\u001b[38;5;28mself\u001b[39m\u001b[38;5;241m.\u001b[39m_backward_hooks \u001b[38;5;129;01mor\u001b[39;00m \u001b[38;5;28mself\u001b[39m\u001b[38;5;241m.\u001b[39m_backward_pre_hooks \u001b[38;5;129;01mor\u001b[39;00m \u001b[38;5;28mself\u001b[39m\u001b[38;5;241m.\u001b[39m_forward_hooks \u001b[38;5;129;01mor\u001b[39;00m \u001b[38;5;28mself\u001b[39m\u001b[38;5;241m.\u001b[39m_forward_pre_hooks\n\u001b[1;32m   1539\u001b[0m         \u001b[38;5;129;01mor\u001b[39;00m _global_backward_pre_hooks \u001b[38;5;129;01mor\u001b[39;00m _global_backward_hooks\n\u001b[1;32m   1540\u001b[0m         \u001b[38;5;129;01mor\u001b[39;00m _global_forward_hooks \u001b[38;5;129;01mor\u001b[39;00m _global_forward_pre_hooks):\n\u001b[0;32m-> 1541\u001b[0m     \u001b[38;5;28;01mreturn\u001b[39;00m \u001b[43mforward_call\u001b[49m\u001b[43m(\u001b[49m\u001b[38;5;241;43m*\u001b[39;49m\u001b[43margs\u001b[49m\u001b[43m,\u001b[49m\u001b[43m \u001b[49m\u001b[38;5;241;43m*\u001b[39;49m\u001b[38;5;241;43m*\u001b[39;49m\u001b[43mkwargs\u001b[49m\u001b[43m)\u001b[49m\n\u001b[1;32m   1543\u001b[0m \u001b[38;5;28;01mtry\u001b[39;00m:\n\u001b[1;32m   1544\u001b[0m     result \u001b[38;5;241m=\u001b[39m \u001b[38;5;28;01mNone\u001b[39;00m\n",
      "File \u001b[0;32m~/Desktop/bioinfmsc/diss/model_tuned.py:153\u001b[0m, in \u001b[0;36mWeightedErrorLoss.forward\u001b[0;34m(self, prediction, target)\u001b[0m\n\u001b[1;32m    150\u001b[0m zero_mask \u001b[38;5;241m=\u001b[39m target \u001b[38;5;241m==\u001b[39m \u001b[38;5;241m0\u001b[39m\n\u001b[1;32m    152\u001b[0m \u001b[38;5;66;03m# Compute Mean Squared Error on the non-zero elements\u001b[39;00m\n\u001b[0;32m--> 153\u001b[0m zero_loss \u001b[38;5;241m=\u001b[39m torch\u001b[38;5;241m.\u001b[39mmean(\u001b[43mprediction\u001b[49m\u001b[43m[\u001b[49m\u001b[43mzero_mask\u001b[49m\u001b[43m]\u001b[49m\u001b[38;5;241m*\u001b[39m\u001b[38;5;241m*\u001b[39m\u001b[38;5;241m2\u001b[39m)\n\u001b[1;32m    155\u001b[0m sum_penalty \u001b[38;5;241m=\u001b[39m torch\u001b[38;5;241m.\u001b[39mabs(prediction\u001b[38;5;241m.\u001b[39msum(dim\u001b[38;5;241m=\u001b[39m\u001b[38;5;241m1\u001b[39m) \u001b[38;5;241m-\u001b[39m \u001b[38;5;241m1\u001b[39m)\u001b[38;5;241m.\u001b[39mmean()\n\u001b[1;32m    157\u001b[0m loss \u001b[38;5;241m=\u001b[39m torch\u001b[38;5;241m.\u001b[39mmean((masked_prediction \u001b[38;5;241m-\u001b[39m masked_target) \u001b[38;5;241m*\u001b[39m\u001b[38;5;241m*\u001b[39m \u001b[38;5;241m2\u001b[39m)\n",
      "\u001b[0;31mKeyboardInterrupt\u001b[0m: "
     ]
    }
   ],
   "source": [
    "model.fit(train_loader, validation_loader, epochs=1000)\n",
    "\n",
    "# Evaluate the model\n",
    "model.evaluate(validation_loader)\n",
    "\n",
    "# Predict using the model\n",
    "predictions, actuals = model.predict(test_loader)"
   ]
  },
  {
   "cell_type": "code",
   "execution_count": 22,
   "id": "4df25291-c4a4-4f95-ad64-dee02d9c599f",
   "metadata": {},
   "outputs": [
    {
     "name": "stdout",
     "output_type": "stream",
     "text": [
      "[[-0.01382114  0.00948536 -0.01458847 ... -0.00178235  0.00272133\n",
      "   0.00116308]\n",
      " [-0.0176357   0.01165864 -0.01500636 ...  0.00202101 -0.00051458\n",
      "   0.00159319]\n",
      " [-0.01457275  0.00833685 -0.01408375 ... -0.00296229 -0.00397554\n",
      "  -0.00259534]\n",
      " ...\n",
      " [-0.01533325  0.00842183 -0.01438864 ... -0.00223073 -0.00360064\n",
      "  -0.00202099]\n",
      " [ 0.03371943  0.05466757  0.06893264 ... -0.0143674   0.03655478\n",
      "   0.09705143]\n",
      " [ 0.04005048  0.06357699  0.09066598 ... -0.01345008  0.04414208\n",
      "   0.12505825]]\n"
     ]
    }
   ],
   "source": [
    "print(predictions)"
   ]
  },
  {
   "cell_type": "code",
   "execution_count": 23,
   "id": "4175084a-c70f-4f14-99b8-51313b5f8dfc",
   "metadata": {},
   "outputs": [
    {
     "data": {
      "text/plain": [
       "41.57671262495569"
      ]
     },
     "execution_count": 23,
     "metadata": {},
     "output_type": "execute_result"
    }
   ],
   "source": [
    "sum(predictions[4])"
   ]
  },
  {
   "cell_type": "code",
   "execution_count": 24,
   "id": "18b2851c-7948-4f60-9ca7-bfaab33d53cd",
   "metadata": {},
   "outputs": [
    {
     "data": {
      "text/plain": [
       "1.0000000012805685"
      ]
     },
     "execution_count": 24,
     "metadata": {},
     "output_type": "execute_result"
    }
   ],
   "source": [
    "sum(actuals[1])"
   ]
  },
  {
   "cell_type": "code",
   "execution_count": 25,
   "id": "5db09051-fbfc-41df-97d6-87b54b649e0a",
   "metadata": {},
   "outputs": [
    {
     "data": {
      "image/png": "[encoded data removed]",
      "text/plain": [
       "<Figure size 1000x600 with 1 Axes>"
      ]
     },
     "metadata": {},
     "output_type": "display_data"
    }
   ],
   "source": [
    "plt.figure(figsize=(10, 6))\n",
    "plt.scatter(predictions.flatten(), actuals.flatten(), alpha=0.5)\n",
    "plt.xlabel('Predicted Frequencies')\n",
    "plt.ylabel('Actual Frequencies')\n",
    "plt.title(f'Predicted vs Actual Frequencies')\n",
    "plt.show()"
   ]
  },
  {
   "cell_type": "code",
   "execution_count": null,
   "id": "f40172ce-5212-4238-873f-6bfd5e4bf68b",
   "metadata": {},
   "outputs": [],
   "source": [
    "torch.save(model.model.state_dict(), 'diss')"
   ]
  }
 ],
 "metadata": {
  "kernelspec": {
   "display_name": "Python 3 (ipykernel)",
   "language": "python",
   "name": "python3"
  },
  "language_info": {
   "codemirror_mode": {
    "name": "ipython",
    "version": 3
   },
   "file_extension": ".py",
   "mimetype": "text/x-python",
   "name": "python",
   "nbconvert_exporter": "python",
   "pygments_lexer": "ipython3",
   "version": "3.9.19"
  }
 },
 "nbformat": 4,
 "nbformat_minor": 5
}
