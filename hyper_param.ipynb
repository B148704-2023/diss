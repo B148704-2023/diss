{
 "cells": [
  {
   "cell_type": "code",
   "execution_count": 1,
   "id": "dd46c058-6460-4e59-972b-97404d48b4f4",
   "metadata": {},
   "outputs": [],
   "source": [
    "import os \n",
    "import sys \n",
    "import numpy as np\n",
    "\n",
    "import torch\n",
    "import torch.nn as nn\n",
    "from torch.utils.data import DataLoader, TensorDataset, random_split\n",
    "\n",
    "from train import generate_training_examples\n",
    "\n",
    "import optuna\n",
    "from optuna.samplers import TPESampler\n",
    "from optuna.pruners import MedianPruner\n",
    "import optuna.visualization as vis\n",
    "import plotly.io as pio\n",
    "\n",
    "import matplotlib.pyplot as plt\n",
    "from matplotlib.backends.backend_pdf import PdfPages\n",
    "\n",
    "from abc import ABC, abstractmethod"
   ]
  },
  {
   "cell_type": "code",
   "execution_count": 2,
   "id": "33db3976-e9d7-4768-b013-8a91d0ed8706",
   "metadata": {},
   "outputs": [],
   "source": [
    "from model_baseline import SNV2LinFreqs"
   ]
  },
  {
   "cell_type": "code",
   "execution_count": 3,
   "id": "b4e59d33-5173-429a-bd21-56aefb9f3263",
   "metadata": {},
   "outputs": [
    {
     "name": "stdout",
     "output_type": "stream",
     "text": [
      "Using mps device\n"
     ]
    }
   ],
   "source": [
    "device = (\n",
    "        \"cuda\"\n",
    "        if torch.cuda.is_available()\n",
    "        else \"mps\"\n",
    "        if torch.backends.mps.is_available()\n",
    "        else \"cpu\"\n",
    "    )\n",
    "print(f\"Using {device} device\")\n",
    "\n",
    "n = 10000\n",
    "known_freqs_file = f'known_freqs_{n}.npy'\n",
    "snv_freqs_file = f'snv_freqs_{n}.npy'"
   ]
  },
  {
   "cell_type": "code",
   "execution_count": 4,
   "id": "28b75e69-8117-490d-afd2-b80ae75dedfc",
   "metadata": {},
   "outputs": [],
   "source": [
    "X=np.load(known_freqs_file)\n",
    "y=np.load(snv_freqs_file)"
   ]
  },
  {
   "cell_type": "code",
   "execution_count": 5,
   "id": "2b1f6c28-1578-4c43-8887-783c68a129f6",
   "metadata": {},
   "outputs": [],
   "source": [
    "known_freqs=torch.from_numpy(X)\n",
    "snv_freqs=torch.from_numpy(y)"
   ]
  },
  {
   "cell_type": "code",
   "execution_count": 6,
   "id": "d230d492-50b6-46c0-aced-842765914021",
   "metadata": {},
   "outputs": [
    {
     "name": "stdout",
     "output_type": "stream",
     "text": [
      "Training set size: 8000\n",
      "Validation set size: 1000\n",
      "Test set size: 1000\n"
     ]
    }
   ],
   "source": [
    "known_freqs = known_freqs.to(device)\n",
    "snv_freqs = snv_freqs.to(device)\n",
    "dataset = TensorDataset(snv_freqs, known_freqs)\n",
    "\n",
    "total_size = len(dataset)\n",
    "test_size = total_size // 10  # 10% for test\n",
    "validation_size = total_size // 10  # 10% for validation\n",
    "train_size = total_size - test_size - validation_size  # 80% train\n",
    "\n",
    "# Split the dataset\n",
    "train_dataset, validation_dataset, test_dataset = random_split(\n",
    "        dataset, [train_size, validation_size, test_size]\n",
    "    )\n",
    "\n",
    "# verify sizes\n",
    "print(f\"Training set size: {len(train_dataset)}\")\n",
    "print(f\"Validation set size: {len(validation_dataset)}\")\n",
    "print(f\"Test set size: {len(test_dataset)}\")"
   ]
  },
  {
   "cell_type": "code",
   "execution_count": 7,
   "id": "07c1fe36-cbcc-46a9-8974-a31a96811048",
   "metadata": {},
   "outputs": [],
   "source": [
    "batch_size = 1000  # Arbitrarily chosen\n",
    "train_loader = DataLoader(train_dataset, batch_size=batch_size, shuffle=False)\n",
    "validation_loader = DataLoader(validation_dataset, batch_size=batch_size, shuffle=False)\n",
    "test_loader = DataLoader(test_dataset, batch_size=batch_size, shuffle=False)"
   ]
  },
  {
   "cell_type": "code",
   "execution_count": 8,
   "id": "906ecfdf-2483-418c-8a85-fd3a31638838",
   "metadata": {},
   "outputs": [],
   "source": [
    "input_size = snv_freqs.shape[1]\n",
    "output_size = known_freqs.shape[1]"
   ]
  },
  {
   "cell_type": "code",
   "execution_count": 9,
   "id": "1f1dd21e-e5c1-4229-97a5-cb6504a144ff",
   "metadata": {},
   "outputs": [
    {
     "name": "stderr",
     "output_type": "stream",
     "text": [
      "[I 2024-07-16 02:42:41,335] A new study created in memory with name: no-name-b295fc7b-3218-49ca-818f-bd61a36f0f4b\n"
     ]
    },
    {
     "name": "stdout",
     "output_type": "stream",
     "text": [
      "Using mps device\n",
      "Using mps device\n"
     ]
    },
    {
     "name": "stderr",
     "output_type": "stream",
     "text": [
      "[I 2024-07-16 02:46:55,236] Trial 0 finished with value: 3.236529300920665e-05 and parameters: {'num_hidden_layers': 2, 'hidden_layer_size': 243, 'activation': 'ReLU', 'dropout': 0.04621648713311238, 'weight_decay': 0.0006956577333381845, 'lr': 7.365105603096945e-05}. Best is trial 0 with value: 3.236529300920665e-05.\n"
     ]
    },
    {
     "name": "stdout",
     "output_type": "stream",
     "text": [
      "Using mps device\n"
     ]
    },
    {
     "name": "stderr",
     "output_type": "stream",
     "text": [
      "[I 2024-07-16 02:48:16,380] Trial 1 finished with value: 2.59343705693027e-05 and parameters: {'num_hidden_layers': 2, 'hidden_layer_size': 228, 'activation': 'Tanh', 'dropout': 0.1719773785628511, 'weight_decay': 0.04242003406295808, 'lr': 0.0022479646739231507}. Best is trial 1 with value: 2.59343705693027e-05.\n"
     ]
    },
    {
     "name": "stdout",
     "output_type": "stream",
     "text": [
      "Using mps device\n"
     ]
    },
    {
     "name": "stderr",
     "output_type": "stream",
     "text": [
      "[I 2024-07-16 02:51:27,997] Trial 2 finished with value: 4.093609809875488 and parameters: {'num_hidden_layers': 5, 'hidden_layer_size': 60, 'activation': 'Sigmoid', 'dropout': 0.3008998586187148, 'weight_decay': 0.051678061884804546, 'lr': 0.04321429561345247}. Best is trial 1 with value: 2.59343705693027e-05.\n"
     ]
    },
    {
     "name": "stdout",
     "output_type": "stream",
     "text": [
      "Using mps device\n"
     ]
    },
    {
     "name": "stderr",
     "output_type": "stream",
     "text": [
      "[I 2024-07-16 02:55:12,493] Trial 3 finished with value: 2.5934486984624527e-05 and parameters: {'num_hidden_layers': 5, 'hidden_layer_size': 219, 'activation': 'Tanh', 'dropout': 0.17969679508076408, 'weight_decay': 0.04620083877756099, 'lr': 0.00019725936224966584}. Best is trial 1 with value: 2.59343705693027e-05.\n"
     ]
    },
    {
     "name": "stdout",
     "output_type": "stream",
     "text": [
      "Using mps device\n"
     ]
    },
    {
     "name": "stderr",
     "output_type": "stream",
     "text": [
      "[I 2024-07-16 02:57:30,445] Trial 4 finished with value: 2.593464159872383e-05 and parameters: {'num_hidden_layers': 1, 'hidden_layer_size': 97, 'activation': 'Tanh', 'dropout': 0.37939373494114875, 'weight_decay': 0.052156026234878326, 'lr': 0.09907344127369674}. Best is trial 1 with value: 2.59343705693027e-05.\n"
     ]
    },
    {
     "name": "stdout",
     "output_type": "stream",
     "text": [
      "Using mps device\n"
     ]
    },
    {
     "name": "stderr",
     "output_type": "stream",
     "text": [
      "[I 2024-07-16 02:58:31,768] Trial 5 finished with value: 2.5933748474926688e-05 and parameters: {'num_hidden_layers': 1, 'hidden_layer_size': 172, 'activation': 'Tanh', 'dropout': 0.2659497947437014, 'weight_decay': 0.02826401300946863, 'lr': 0.01195351967862148}. Best is trial 5 with value: 2.5933748474926688e-05.\n"
     ]
    },
    {
     "name": "stdout",
     "output_type": "stream",
     "text": [
      "Using mps device\n"
     ]
    },
    {
     "name": "stderr",
     "output_type": "stream",
     "text": [
      "[I 2024-07-16 02:58:55,680] Trial 6 finished with value: 0.007737720385193825 and parameters: {'num_hidden_layers': 1, 'hidden_layer_size': 225, 'activation': 'ReLU', 'dropout': 0.18842394129121542, 'weight_decay': 0.054841666062467945, 'lr': 5.712791934880063e-05}. Best is trial 5 with value: 2.5933748474926688e-05.\n"
     ]
    },
    {
     "name": "stdout",
     "output_type": "stream",
     "text": [
      "Using mps device\n"
     ]
    },
    {
     "name": "stderr",
     "output_type": "stream",
     "text": [
      "[I 2024-07-16 03:00:07,215] Trial 7 finished with value: 0.001590816886164248 and parameters: {'num_hidden_layers': 5, 'hidden_layer_size': 167, 'activation': 'Tanh', 'dropout': 0.021849876454301365, 'weight_decay': 0.09971205765567494, 'lr': 9.361376649807845e-05}. Best is trial 5 with value: 2.5933748474926688e-05.\n"
     ]
    },
    {
     "name": "stdout",
     "output_type": "stream",
     "text": [
      "Using mps device\n"
     ]
    },
    {
     "name": "stderr",
     "output_type": "stream",
     "text": [
      "[I 2024-07-16 03:25:06,766] Trial 8 finished with value: 2.587580820545554e-05 and parameters: {'num_hidden_layers': 4, 'hidden_layer_size': 68, 'activation': 'Sigmoid', 'dropout': 0.2410421795579632, 'weight_decay': 0.05638471992646867, 'lr': 2.205696339555831e-05}. Best is trial 8 with value: 2.587580820545554e-05.\n"
     ]
    },
    {
     "name": "stdout",
     "output_type": "stream",
     "text": [
      "Using mps device\n"
     ]
    },
    {
     "name": "stderr",
     "output_type": "stream",
     "text": [
      "[I 2024-07-16 03:30:01,964] Trial 9 finished with value: 2.593307181086857e-05 and parameters: {'num_hidden_layers': 4, 'hidden_layer_size': 39, 'activation': 'Tanh', 'dropout': 0.21866992524257378, 'weight_decay': 0.022603496840809364, 'lr': 0.00014149759335750333}. Best is trial 8 with value: 2.587580820545554e-05.\n"
     ]
    },
    {
     "name": "stdout",
     "output_type": "stream",
     "text": [
      "Using mps device\n"
     ]
    },
    {
     "name": "stderr",
     "output_type": "stream",
     "text": [
      "[I 2024-07-16 03:51:14,475] Trial 10 finished with value: 2.5875118808471598e-05 and parameters: {'num_hidden_layers': 3, 'hidden_layer_size': 100, 'activation': 'Sigmoid', 'dropout': 0.4508592795072641, 'weight_decay': 0.08532559870127283, 'lr': 2.1157308053122125e-05}. Best is trial 10 with value: 2.5875118808471598e-05.\n"
     ]
    },
    {
     "name": "stdout",
     "output_type": "stream",
     "text": [
      "Using mps device\n"
     ]
    },
    {
     "name": "stderr",
     "output_type": "stream",
     "text": [
      "[I 2024-07-16 04:22:28,270] Trial 11 finished with value: 2.5874813218251802e-05 and parameters: {'num_hidden_layers': 3, 'hidden_layer_size': 95, 'activation': 'Sigmoid', 'dropout': 0.4952747994927357, 'weight_decay': 0.0853631202213527, 'lr': 1.240956357347746e-05}. Best is trial 11 with value: 2.5874813218251802e-05.\n"
     ]
    },
    {
     "name": "stdout",
     "output_type": "stream",
     "text": [
      "Using mps device\n"
     ]
    },
    {
     "name": "stderr",
     "output_type": "stream",
     "text": [
      "[I 2024-07-16 04:47:44,601] Trial 12 finished with value: 2.5875006031128578e-05 and parameters: {'num_hidden_layers': 3, 'hidden_layer_size': 109, 'activation': 'Sigmoid', 'dropout': 0.4870951915989492, 'weight_decay': 0.09200562608426238, 'lr': 1.75197083614347e-05}. Best is trial 11 with value: 2.5874813218251802e-05.\n"
     ]
    },
    {
     "name": "stdout",
     "output_type": "stream",
     "text": [
      "Using mps device\n"
     ]
    },
    {
     "name": "stderr",
     "output_type": "stream",
     "text": [
      "[I 2024-07-16 04:49:45,906] Trial 13 finished with value: 2.5955943783628754e-05 and parameters: {'num_hidden_layers': 3, 'hidden_layer_size': 130, 'activation': 'Sigmoid', 'dropout': 0.4894503685937045, 'weight_decay': 0.0791829125206827, 'lr': 0.0006531928173000406}. Best is trial 11 with value: 2.5874813218251802e-05.\n"
     ]
    },
    {
     "name": "stdout",
     "output_type": "stream",
     "text": [
      "Using mps device\n"
     ]
    },
    {
     "name": "stderr",
     "output_type": "stream",
     "text": [
      "[I 2024-07-16 05:37:53,319] Trial 14 finished with value: 2.5874893253785558e-05 and parameters: {'num_hidden_layers': 4, 'hidden_layer_size': 132, 'activation': 'Sigmoid', 'dropout': 0.40356841946317407, 'weight_decay': 0.07461620000997465, 'lr': 1.1051701656573676e-05}. Best is trial 11 with value: 2.5874813218251802e-05.\n"
     ]
    },
    {
     "name": "stdout",
     "output_type": "stream",
     "text": [
      "Using mps device\n"
     ]
    },
    {
     "name": "stderr",
     "output_type": "stream",
     "text": [
      "[I 2024-07-16 06:20:22,297] Trial 15 finished with value: 2.5874742277665064e-05 and parameters: {'num_hidden_layers': 4, 'hidden_layer_size': 172, 'activation': 'Sigmoid', 'dropout': 0.39422504121894275, 'weight_decay': 0.07135427837762624, 'lr': 1.1739385604674295e-05}. Best is trial 15 with value: 2.5874742277665064e-05.\n"
     ]
    },
    {
     "name": "stdout",
     "output_type": "stream",
     "text": [
      "Using mps device\n"
     ]
    },
    {
     "name": "stderr",
     "output_type": "stream",
     "text": [
      "[I 2024-07-16 06:23:09,577] Trial 16 finished with value: 2.5943796572391875e-05 and parameters: {'num_hidden_layers': 4, 'hidden_layer_size': 181, 'activation': 'Sigmoid', 'dropout': 0.33089392404797247, 'weight_decay': 0.06915945226695655, 'lr': 0.0005299386216467667}. Best is trial 15 with value: 2.5874742277665064e-05.\n"
     ]
    },
    {
     "name": "stdout",
     "output_type": "stream",
     "text": [
      "Using mps device\n"
     ]
    },
    {
     "name": "stderr",
     "output_type": "stream",
     "text": [
      "[I 2024-07-16 06:24:19,893] Trial 17 finished with value: 0.019323574379086494 and parameters: {'num_hidden_layers': 2, 'hidden_layer_size': 194, 'activation': 'Sigmoid', 'dropout': 0.385873863596514, 'weight_decay': 0.0678121656518097, 'lr': 0.002954945204022099}. Best is trial 15 with value: 2.5874742277665064e-05.\n"
     ]
    },
    {
     "name": "stdout",
     "output_type": "stream",
     "text": [
      "Using mps device\n"
     ]
    },
    {
     "name": "stderr",
     "output_type": "stream",
     "text": [
      "[I 2024-07-16 06:25:20,997] Trial 18 finished with value: 0.009625750593841076 and parameters: {'num_hidden_layers': 4, 'hidden_layer_size': 23, 'activation': 'ReLU', 'dropout': 0.43350493114183125, 'weight_decay': 0.08600832988813506, 'lr': 3.890629300047835e-05}. Best is trial 15 with value: 2.5874742277665064e-05.\n"
     ]
    },
    {
     "name": "stdout",
     "output_type": "stream",
     "text": [
      "Using mps device\n"
     ]
    },
    {
     "name": "stderr",
     "output_type": "stream",
     "text": [
      "[I 2024-07-16 07:01:03,910] Trial 19 finished with value: 2.587475501059089e-05 and parameters: {'num_hidden_layers': 3, 'hidden_layer_size': 151, 'activation': 'Sigmoid', 'dropout': 0.34101082421372736, 'weight_decay': 0.06460328688280403, 'lr': 1.0173711345789084e-05}. Best is trial 15 with value: 2.5874742277665064e-05.\n"
     ]
    },
    {
     "name": "stdout",
     "output_type": "stream",
     "text": [
      "Using mps device\n"
     ]
    },
    {
     "name": "stderr",
     "output_type": "stream",
     "text": [
      "[I 2024-07-16 07:02:35,891] Trial 20 finished with value: 2.589916402939707e-05 and parameters: {'num_hidden_layers': 2, 'hidden_layer_size': 153, 'activation': 'Sigmoid', 'dropout': 0.33584512254716614, 'weight_decay': 0.06491103666756154, 'lr': 0.0002566237207798858}. Best is trial 15 with value: 2.5874742277665064e-05.\n"
     ]
    },
    {
     "name": "stdout",
     "output_type": "stream",
     "text": [
      "Using mps device\n"
     ]
    },
    {
     "name": "stderr",
     "output_type": "stream",
     "text": [
      "[I 2024-07-16 07:34:51,055] Trial 21 finished with value: 2.5874795028357767e-05 and parameters: {'num_hidden_layers': 3, 'hidden_layer_size': 147, 'activation': 'Sigmoid', 'dropout': 0.4418229817239827, 'weight_decay': 0.08070599290355851, 'lr': 1.1897329555623391e-05}. Best is trial 15 with value: 2.5874742277665064e-05.\n"
     ]
    },
    {
     "name": "stdout",
     "output_type": "stream",
     "text": [
      "Using mps device\n"
     ]
    },
    {
     "name": "stderr",
     "output_type": "stream",
     "text": [
      "[I 2024-07-16 07:47:37,912] Trial 22 finished with value: 2.587649396446068e-05 and parameters: {'num_hidden_layers': 3, 'hidden_layer_size': 199, 'activation': 'Sigmoid', 'dropout': 0.341036149118052, 'weight_decay': 0.060988588852575625, 'lr': 3.485526769564028e-05}. Best is trial 15 with value: 2.5874742277665064e-05.\n"
     ]
    },
    {
     "name": "stdout",
     "output_type": "stream",
     "text": [
      "Using mps device\n"
     ]
    },
    {
     "name": "stderr",
     "output_type": "stream",
     "text": [
      "[I 2024-07-16 08:04:58,060] Trial 23 finished with value: 2.5875815481413156e-05 and parameters: {'num_hidden_layers': 4, 'hidden_layer_size': 148, 'activation': 'Sigmoid', 'dropout': 0.42188023898424654, 'weight_decay': 0.07244240795070714, 'lr': 3.552178179623661e-05}. Best is trial 15 with value: 2.5874742277665064e-05.\n"
     ]
    },
    {
     "name": "stdout",
     "output_type": "stream",
     "text": [
      "Using mps device\n"
     ]
    },
    {
     "name": "stderr",
     "output_type": "stream",
     "text": [
      "[I 2024-07-16 08:40:45,056] Trial 24 finished with value: 2.587485323601868e-05 and parameters: {'num_hidden_layers': 3, 'hidden_layer_size': 121, 'activation': 'Sigmoid', 'dropout': 0.36728463579176407, 'weight_decay': 0.03574898528350745, 'lr': 1.0877704439129746e-05}. Best is trial 15 with value: 2.5874742277665064e-05.\n"
     ]
    },
    {
     "name": "stdout",
     "output_type": "stream",
     "text": [
      "Using mps device\n"
     ]
    },
    {
     "name": "stderr",
     "output_type": "stream",
     "text": [
      "[I 2024-07-16 08:41:22,208] Trial 25 finished with value: 0.04107418283820152 and parameters: {'num_hidden_layers': 2, 'hidden_layer_size': 151, 'activation': 'ReLU', 'dropout': 0.28476289270684174, 'weight_decay': 0.07863544782681627, 'lr': 1.0003455669718464e-05}. Best is trial 15 with value: 2.5874742277665064e-05.\n"
     ]
    },
    {
     "name": "stdout",
     "output_type": "stream",
     "text": [
      "Using mps device\n"
     ]
    },
    {
     "name": "stderr",
     "output_type": "stream",
     "text": [
      "[I 2024-07-16 08:44:12,660] Trial 26 finished with value: 2.5884301066980697e-05 and parameters: {'num_hidden_layers': 4, 'hidden_layer_size': 194, 'activation': 'Sigmoid', 'dropout': 0.45284116062918456, 'weight_decay': 0.09756464646373217, 'lr': 0.0003386145447112173}. Best is trial 15 with value: 2.5874742277665064e-05.\n"
     ]
    },
    {
     "name": "stdout",
     "output_type": "stream",
     "text": [
      "Using mps device\n"
     ]
    },
    {
     "name": "stderr",
     "output_type": "stream",
     "text": [
      "[I 2024-07-16 08:46:01,779] Trial 27 finished with value: 3.0172754122759216e-05 and parameters: {'num_hidden_layers': 3, 'hidden_layer_size': 162, 'activation': 'Sigmoid', 'dropout': 0.3217693446123187, 'weight_decay': 0.059805836078675505, 'lr': 0.0018046900389192164}. Best is trial 15 with value: 2.5874742277665064e-05.\n"
     ]
    },
    {
     "name": "stdout",
     "output_type": "stream",
     "text": [
      "Using mps device\n"
     ]
    },
    {
     "name": "stderr",
     "output_type": "stream",
     "text": [
      "[W 2024-07-16 08:49:53,484] Trial 28 failed with parameters: {'num_hidden_layers': 5, 'hidden_layer_size': 141, 'activation': 'Sigmoid', 'dropout': 0.3728392089807381, 'weight_decay': 0.07979202762769191, 'lr': 2.4634665777482832e-05} because of the following error: KeyboardInterrupt().\n",
      "Traceback (most recent call last):\n",
      "  File \"/opt/miniconda3/envs/ww/lib/python3.9/site-packages/optuna/study/_optimize.py\", line 196, in _run_trial\n",
      "    value_or_values = func(trial)\n",
      "  File \"/Users/DannyPang/Desktop/bioinfmsc/diss/model_baseline.py\", line 273, in <lambda>\n",
      "    self.study.optimize(lambda trial: self._objective(trial, config), n_trials=n_trials)\n",
      "  File \"/Users/DannyPang/Desktop/bioinfmsc/diss/model_baseline.py\", line 216, in _objective\n",
      "    train_losses, val_losses = model.fit(\n",
      "  File \"/Users/DannyPang/Desktop/bioinfmsc/diss/model_baseline.py\", line 87, in fit\n",
      "    train_loss += loss.item()\n",
      "KeyboardInterrupt\n",
      "[W 2024-07-16 08:49:53,487] Trial 28 failed with value None.\n"
     ]
    },
    {
     "ename": "KeyboardInterrupt",
     "evalue": "",
     "output_type": "error",
     "traceback": [
      "\u001b[0;31m---------------------------------------------------------------------------\u001b[0m",
      "\u001b[0;31mKeyboardInterrupt\u001b[0m                         Traceback (most recent call last)",
      "Cell \u001b[0;32mIn[9], line 16\u001b[0m\n\u001b[1;32m     13\u001b[0m model \u001b[38;5;241m=\u001b[39m SNV2LinFreqs(train_loader, test_loader, input_size, output_size, device)\n\u001b[1;32m     15\u001b[0m \u001b[38;5;66;03m# Perform optimization\u001b[39;00m\n\u001b[0;32m---> 16\u001b[0m best_params \u001b[38;5;241m=\u001b[39m \u001b[43mmodel\u001b[49m\u001b[38;5;241;43m.\u001b[39;49m\u001b[43moptimize\u001b[49m\u001b[43m(\u001b[49m\u001b[43mn_trials\u001b[49m\u001b[38;5;241;43m=\u001b[39;49m\u001b[38;5;241;43m100\u001b[39;49m\u001b[43m,\u001b[49m\u001b[43m \u001b[49m\u001b[43mconfig\u001b[49m\u001b[38;5;241;43m=\u001b[39;49m\u001b[43mconfig\u001b[49m\u001b[43m,\u001b[49m\u001b[43m \u001b[49m\u001b[43mpruner\u001b[49m\u001b[38;5;241;43m=\u001b[39;49m\u001b[38;5;28;43;01mTrue\u001b[39;49;00m\u001b[43m)\u001b[49m\n\u001b[1;32m     18\u001b[0m \u001b[38;5;28mprint\u001b[39m(\u001b[38;5;124m'\u001b[39m\u001b[38;5;124mBest parameters:\u001b[39m\u001b[38;5;124m'\u001b[39m, best_params)\n\u001b[1;32m     20\u001b[0m model\u001b[38;5;241m.\u001b[39mplot_trials(params\u001b[38;5;241m.\u001b[39mprefix)\n",
      "File \u001b[0;32m~/Desktop/bioinfmsc/diss/model_baseline.py:273\u001b[0m, in \u001b[0;36mSNV2LinFreqs.optimize\u001b[0;34m(self, n_trials, config, warmup_steps, pruner)\u001b[0m\n\u001b[1;32m    270\u001b[0m sampler \u001b[38;5;241m=\u001b[39m TPESampler(n_startup_trials\u001b[38;5;241m=\u001b[39mwarmup_steps)\n\u001b[1;32m    272\u001b[0m \u001b[38;5;28mself\u001b[39m\u001b[38;5;241m.\u001b[39mstudy \u001b[38;5;241m=\u001b[39m optuna\u001b[38;5;241m.\u001b[39mcreate_study(direction\u001b[38;5;241m=\u001b[39m\u001b[38;5;124m'\u001b[39m\u001b[38;5;124mminimize\u001b[39m\u001b[38;5;124m'\u001b[39m, sampler\u001b[38;5;241m=\u001b[39msampler, pruner\u001b[38;5;241m=\u001b[39mpruner)\n\u001b[0;32m--> 273\u001b[0m \u001b[38;5;28;43mself\u001b[39;49m\u001b[38;5;241;43m.\u001b[39;49m\u001b[43mstudy\u001b[49m\u001b[38;5;241;43m.\u001b[39;49m\u001b[43moptimize\u001b[49m\u001b[43m(\u001b[49m\u001b[38;5;28;43;01mlambda\u001b[39;49;00m\u001b[43m \u001b[49m\u001b[43mtrial\u001b[49m\u001b[43m:\u001b[49m\u001b[43m \u001b[49m\u001b[38;5;28;43mself\u001b[39;49m\u001b[38;5;241;43m.\u001b[39;49m\u001b[43m_objective\u001b[49m\u001b[43m(\u001b[49m\u001b[43mtrial\u001b[49m\u001b[43m,\u001b[49m\u001b[43m \u001b[49m\u001b[43mconfig\u001b[49m\u001b[43m)\u001b[49m\u001b[43m,\u001b[49m\u001b[43m \u001b[49m\u001b[43mn_trials\u001b[49m\u001b[38;5;241;43m=\u001b[39;49m\u001b[43mn_trials\u001b[49m\u001b[43m)\u001b[49m\n\u001b[1;32m    275\u001b[0m \u001b[38;5;66;03m# Print results\u001b[39;00m\n\u001b[1;32m    276\u001b[0m \u001b[38;5;28mprint\u001b[39m(\u001b[38;5;124m'\u001b[39m\u001b[38;5;124mNumber of finished trials:\u001b[39m\u001b[38;5;124m'\u001b[39m, \u001b[38;5;28mlen\u001b[39m(\u001b[38;5;28mself\u001b[39m\u001b[38;5;241m.\u001b[39mstudy\u001b[38;5;241m.\u001b[39mtrials))\n",
      "File \u001b[0;32m/opt/miniconda3/envs/ww/lib/python3.9/site-packages/optuna/study/study.py:451\u001b[0m, in \u001b[0;36mStudy.optimize\u001b[0;34m(self, func, n_trials, timeout, n_jobs, catch, callbacks, gc_after_trial, show_progress_bar)\u001b[0m\n\u001b[1;32m    348\u001b[0m \u001b[38;5;28;01mdef\u001b[39;00m \u001b[38;5;21moptimize\u001b[39m(\n\u001b[1;32m    349\u001b[0m     \u001b[38;5;28mself\u001b[39m,\n\u001b[1;32m    350\u001b[0m     func: ObjectiveFuncType,\n\u001b[0;32m   (...)\u001b[0m\n\u001b[1;32m    357\u001b[0m     show_progress_bar: \u001b[38;5;28mbool\u001b[39m \u001b[38;5;241m=\u001b[39m \u001b[38;5;28;01mFalse\u001b[39;00m,\n\u001b[1;32m    358\u001b[0m ) \u001b[38;5;241m-\u001b[39m\u001b[38;5;241m>\u001b[39m \u001b[38;5;28;01mNone\u001b[39;00m:\n\u001b[1;32m    359\u001b[0m \u001b[38;5;250m    \u001b[39m\u001b[38;5;124;03m\"\"\"Optimize an objective function.\u001b[39;00m\n\u001b[1;32m    360\u001b[0m \n\u001b[1;32m    361\u001b[0m \u001b[38;5;124;03m    Optimization is done by choosing a suitable set of hyperparameter values from a given\u001b[39;00m\n\u001b[0;32m   (...)\u001b[0m\n\u001b[1;32m    449\u001b[0m \u001b[38;5;124;03m            If nested invocation of this method occurs.\u001b[39;00m\n\u001b[1;32m    450\u001b[0m \u001b[38;5;124;03m    \"\"\"\u001b[39;00m\n\u001b[0;32m--> 451\u001b[0m     \u001b[43m_optimize\u001b[49m\u001b[43m(\u001b[49m\n\u001b[1;32m    452\u001b[0m \u001b[43m        \u001b[49m\u001b[43mstudy\u001b[49m\u001b[38;5;241;43m=\u001b[39;49m\u001b[38;5;28;43mself\u001b[39;49m\u001b[43m,\u001b[49m\n\u001b[1;32m    453\u001b[0m \u001b[43m        \u001b[49m\u001b[43mfunc\u001b[49m\u001b[38;5;241;43m=\u001b[39;49m\u001b[43mfunc\u001b[49m\u001b[43m,\u001b[49m\n\u001b[1;32m    454\u001b[0m \u001b[43m        \u001b[49m\u001b[43mn_trials\u001b[49m\u001b[38;5;241;43m=\u001b[39;49m\u001b[43mn_trials\u001b[49m\u001b[43m,\u001b[49m\n\u001b[1;32m    455\u001b[0m \u001b[43m        \u001b[49m\u001b[43mtimeout\u001b[49m\u001b[38;5;241;43m=\u001b[39;49m\u001b[43mtimeout\u001b[49m\u001b[43m,\u001b[49m\n\u001b[1;32m    456\u001b[0m \u001b[43m        \u001b[49m\u001b[43mn_jobs\u001b[49m\u001b[38;5;241;43m=\u001b[39;49m\u001b[43mn_jobs\u001b[49m\u001b[43m,\u001b[49m\n\u001b[1;32m    457\u001b[0m \u001b[43m        \u001b[49m\u001b[43mcatch\u001b[49m\u001b[38;5;241;43m=\u001b[39;49m\u001b[38;5;28;43mtuple\u001b[39;49m\u001b[43m(\u001b[49m\u001b[43mcatch\u001b[49m\u001b[43m)\u001b[49m\u001b[43m \u001b[49m\u001b[38;5;28;43;01mif\u001b[39;49;00m\u001b[43m \u001b[49m\u001b[38;5;28;43misinstance\u001b[39;49m\u001b[43m(\u001b[49m\u001b[43mcatch\u001b[49m\u001b[43m,\u001b[49m\u001b[43m \u001b[49m\u001b[43mIterable\u001b[49m\u001b[43m)\u001b[49m\u001b[43m \u001b[49m\u001b[38;5;28;43;01melse\u001b[39;49;00m\u001b[43m \u001b[49m\u001b[43m(\u001b[49m\u001b[43mcatch\u001b[49m\u001b[43m,\u001b[49m\u001b[43m)\u001b[49m\u001b[43m,\u001b[49m\n\u001b[1;32m    458\u001b[0m \u001b[43m        \u001b[49m\u001b[43mcallbacks\u001b[49m\u001b[38;5;241;43m=\u001b[39;49m\u001b[43mcallbacks\u001b[49m\u001b[43m,\u001b[49m\n\u001b[1;32m    459\u001b[0m \u001b[43m        \u001b[49m\u001b[43mgc_after_trial\u001b[49m\u001b[38;5;241;43m=\u001b[39;49m\u001b[43mgc_after_trial\u001b[49m\u001b[43m,\u001b[49m\n\u001b[1;32m    460\u001b[0m \u001b[43m        \u001b[49m\u001b[43mshow_progress_bar\u001b[49m\u001b[38;5;241;43m=\u001b[39;49m\u001b[43mshow_progress_bar\u001b[49m\u001b[43m,\u001b[49m\n\u001b[1;32m    461\u001b[0m \u001b[43m    \u001b[49m\u001b[43m)\u001b[49m\n",
      "File \u001b[0;32m/opt/miniconda3/envs/ww/lib/python3.9/site-packages/optuna/study/_optimize.py:62\u001b[0m, in \u001b[0;36m_optimize\u001b[0;34m(study, func, n_trials, timeout, n_jobs, catch, callbacks, gc_after_trial, show_progress_bar)\u001b[0m\n\u001b[1;32m     60\u001b[0m \u001b[38;5;28;01mtry\u001b[39;00m:\n\u001b[1;32m     61\u001b[0m     \u001b[38;5;28;01mif\u001b[39;00m n_jobs \u001b[38;5;241m==\u001b[39m \u001b[38;5;241m1\u001b[39m:\n\u001b[0;32m---> 62\u001b[0m         \u001b[43m_optimize_sequential\u001b[49m\u001b[43m(\u001b[49m\n\u001b[1;32m     63\u001b[0m \u001b[43m            \u001b[49m\u001b[43mstudy\u001b[49m\u001b[43m,\u001b[49m\n\u001b[1;32m     64\u001b[0m \u001b[43m            \u001b[49m\u001b[43mfunc\u001b[49m\u001b[43m,\u001b[49m\n\u001b[1;32m     65\u001b[0m \u001b[43m            \u001b[49m\u001b[43mn_trials\u001b[49m\u001b[43m,\u001b[49m\n\u001b[1;32m     66\u001b[0m \u001b[43m            \u001b[49m\u001b[43mtimeout\u001b[49m\u001b[43m,\u001b[49m\n\u001b[1;32m     67\u001b[0m \u001b[43m            \u001b[49m\u001b[43mcatch\u001b[49m\u001b[43m,\u001b[49m\n\u001b[1;32m     68\u001b[0m \u001b[43m            \u001b[49m\u001b[43mcallbacks\u001b[49m\u001b[43m,\u001b[49m\n\u001b[1;32m     69\u001b[0m \u001b[43m            \u001b[49m\u001b[43mgc_after_trial\u001b[49m\u001b[43m,\u001b[49m\n\u001b[1;32m     70\u001b[0m \u001b[43m            \u001b[49m\u001b[43mreseed_sampler_rng\u001b[49m\u001b[38;5;241;43m=\u001b[39;49m\u001b[38;5;28;43;01mFalse\u001b[39;49;00m\u001b[43m,\u001b[49m\n\u001b[1;32m     71\u001b[0m \u001b[43m            \u001b[49m\u001b[43mtime_start\u001b[49m\u001b[38;5;241;43m=\u001b[39;49m\u001b[38;5;28;43;01mNone\u001b[39;49;00m\u001b[43m,\u001b[49m\n\u001b[1;32m     72\u001b[0m \u001b[43m            \u001b[49m\u001b[43mprogress_bar\u001b[49m\u001b[38;5;241;43m=\u001b[39;49m\u001b[43mprogress_bar\u001b[49m\u001b[43m,\u001b[49m\n\u001b[1;32m     73\u001b[0m \u001b[43m        \u001b[49m\u001b[43m)\u001b[49m\n\u001b[1;32m     74\u001b[0m     \u001b[38;5;28;01melse\u001b[39;00m:\n\u001b[1;32m     75\u001b[0m         \u001b[38;5;28;01mif\u001b[39;00m n_jobs \u001b[38;5;241m==\u001b[39m \u001b[38;5;241m-\u001b[39m\u001b[38;5;241m1\u001b[39m:\n",
      "File \u001b[0;32m/opt/miniconda3/envs/ww/lib/python3.9/site-packages/optuna/study/_optimize.py:159\u001b[0m, in \u001b[0;36m_optimize_sequential\u001b[0;34m(study, func, n_trials, timeout, catch, callbacks, gc_after_trial, reseed_sampler_rng, time_start, progress_bar)\u001b[0m\n\u001b[1;32m    156\u001b[0m         \u001b[38;5;28;01mbreak\u001b[39;00m\n\u001b[1;32m    158\u001b[0m \u001b[38;5;28;01mtry\u001b[39;00m:\n\u001b[0;32m--> 159\u001b[0m     frozen_trial \u001b[38;5;241m=\u001b[39m \u001b[43m_run_trial\u001b[49m\u001b[43m(\u001b[49m\u001b[43mstudy\u001b[49m\u001b[43m,\u001b[49m\u001b[43m \u001b[49m\u001b[43mfunc\u001b[49m\u001b[43m,\u001b[49m\u001b[43m \u001b[49m\u001b[43mcatch\u001b[49m\u001b[43m)\u001b[49m\n\u001b[1;32m    160\u001b[0m \u001b[38;5;28;01mfinally\u001b[39;00m:\n\u001b[1;32m    161\u001b[0m     \u001b[38;5;66;03m# The following line mitigates memory problems that can be occurred in some\u001b[39;00m\n\u001b[1;32m    162\u001b[0m     \u001b[38;5;66;03m# environments (e.g., services that use computing containers such as GitHub Actions).\u001b[39;00m\n\u001b[1;32m    163\u001b[0m     \u001b[38;5;66;03m# Please refer to the following PR for further details:\u001b[39;00m\n\u001b[1;32m    164\u001b[0m     \u001b[38;5;66;03m# https://github.com/optuna/optuna/pull/325.\u001b[39;00m\n\u001b[1;32m    165\u001b[0m     \u001b[38;5;28;01mif\u001b[39;00m gc_after_trial:\n",
      "File \u001b[0;32m/opt/miniconda3/envs/ww/lib/python3.9/site-packages/optuna/study/_optimize.py:247\u001b[0m, in \u001b[0;36m_run_trial\u001b[0;34m(study, func, catch)\u001b[0m\n\u001b[1;32m    240\u001b[0m         \u001b[38;5;28;01massert\u001b[39;00m \u001b[38;5;28;01mFalse\u001b[39;00m, \u001b[38;5;124m\"\u001b[39m\u001b[38;5;124mShould not reach.\u001b[39m\u001b[38;5;124m\"\u001b[39m\n\u001b[1;32m    242\u001b[0m \u001b[38;5;28;01mif\u001b[39;00m (\n\u001b[1;32m    243\u001b[0m     frozen_trial\u001b[38;5;241m.\u001b[39mstate \u001b[38;5;241m==\u001b[39m TrialState\u001b[38;5;241m.\u001b[39mFAIL\n\u001b[1;32m    244\u001b[0m     \u001b[38;5;129;01mand\u001b[39;00m func_err \u001b[38;5;129;01mis\u001b[39;00m \u001b[38;5;129;01mnot\u001b[39;00m \u001b[38;5;28;01mNone\u001b[39;00m\n\u001b[1;32m    245\u001b[0m     \u001b[38;5;129;01mand\u001b[39;00m \u001b[38;5;129;01mnot\u001b[39;00m \u001b[38;5;28misinstance\u001b[39m(func_err, catch)\n\u001b[1;32m    246\u001b[0m ):\n\u001b[0;32m--> 247\u001b[0m     \u001b[38;5;28;01mraise\u001b[39;00m func_err\n\u001b[1;32m    248\u001b[0m \u001b[38;5;28;01mreturn\u001b[39;00m frozen_trial\n",
      "File \u001b[0;32m/opt/miniconda3/envs/ww/lib/python3.9/site-packages/optuna/study/_optimize.py:196\u001b[0m, in \u001b[0;36m_run_trial\u001b[0;34m(study, func, catch)\u001b[0m\n\u001b[1;32m    194\u001b[0m \u001b[38;5;28;01mwith\u001b[39;00m get_heartbeat_thread(trial\u001b[38;5;241m.\u001b[39m_trial_id, study\u001b[38;5;241m.\u001b[39m_storage):\n\u001b[1;32m    195\u001b[0m     \u001b[38;5;28;01mtry\u001b[39;00m:\n\u001b[0;32m--> 196\u001b[0m         value_or_values \u001b[38;5;241m=\u001b[39m \u001b[43mfunc\u001b[49m\u001b[43m(\u001b[49m\u001b[43mtrial\u001b[49m\u001b[43m)\u001b[49m\n\u001b[1;32m    197\u001b[0m     \u001b[38;5;28;01mexcept\u001b[39;00m exceptions\u001b[38;5;241m.\u001b[39mTrialPruned \u001b[38;5;28;01mas\u001b[39;00m e:\n\u001b[1;32m    198\u001b[0m         \u001b[38;5;66;03m# TODO(mamu): Handle multi-objective cases.\u001b[39;00m\n\u001b[1;32m    199\u001b[0m         state \u001b[38;5;241m=\u001b[39m TrialState\u001b[38;5;241m.\u001b[39mPRUNED\n",
      "File \u001b[0;32m~/Desktop/bioinfmsc/diss/model_baseline.py:273\u001b[0m, in \u001b[0;36mSNV2LinFreqs.optimize.<locals>.<lambda>\u001b[0;34m(trial)\u001b[0m\n\u001b[1;32m    270\u001b[0m sampler \u001b[38;5;241m=\u001b[39m TPESampler(n_startup_trials\u001b[38;5;241m=\u001b[39mwarmup_steps)\n\u001b[1;32m    272\u001b[0m \u001b[38;5;28mself\u001b[39m\u001b[38;5;241m.\u001b[39mstudy \u001b[38;5;241m=\u001b[39m optuna\u001b[38;5;241m.\u001b[39mcreate_study(direction\u001b[38;5;241m=\u001b[39m\u001b[38;5;124m'\u001b[39m\u001b[38;5;124mminimize\u001b[39m\u001b[38;5;124m'\u001b[39m, sampler\u001b[38;5;241m=\u001b[39msampler, pruner\u001b[38;5;241m=\u001b[39mpruner)\n\u001b[0;32m--> 273\u001b[0m \u001b[38;5;28mself\u001b[39m\u001b[38;5;241m.\u001b[39mstudy\u001b[38;5;241m.\u001b[39moptimize(\u001b[38;5;28;01mlambda\u001b[39;00m trial: \u001b[38;5;28;43mself\u001b[39;49m\u001b[38;5;241;43m.\u001b[39;49m\u001b[43m_objective\u001b[49m\u001b[43m(\u001b[49m\u001b[43mtrial\u001b[49m\u001b[43m,\u001b[49m\u001b[43m \u001b[49m\u001b[43mconfig\u001b[49m\u001b[43m)\u001b[49m, n_trials\u001b[38;5;241m=\u001b[39mn_trials)\n\u001b[1;32m    275\u001b[0m \u001b[38;5;66;03m# Print results\u001b[39;00m\n\u001b[1;32m    276\u001b[0m \u001b[38;5;28mprint\u001b[39m(\u001b[38;5;124m'\u001b[39m\u001b[38;5;124mNumber of finished trials:\u001b[39m\u001b[38;5;124m'\u001b[39m, \u001b[38;5;28mlen\u001b[39m(\u001b[38;5;28mself\u001b[39m\u001b[38;5;241m.\u001b[39mstudy\u001b[38;5;241m.\u001b[39mtrials))\n",
      "File \u001b[0;32m~/Desktop/bioinfmsc/diss/model_baseline.py:216\u001b[0m, in \u001b[0;36mSNV2LinFreqs._objective\u001b[0;34m(self, trial, config)\u001b[0m\n\u001b[1;32m    207\u001b[0m patience\u001b[38;5;241m=\u001b[39mparsed_config[\u001b[38;5;124m'\u001b[39m\u001b[38;5;124mpatience\u001b[39m\u001b[38;5;124m'\u001b[39m]\n\u001b[1;32m    209\u001b[0m model \u001b[38;5;241m=\u001b[39m MLP(input_size\u001b[38;5;241m=\u001b[39m\u001b[38;5;28mself\u001b[39m\u001b[38;5;241m.\u001b[39minput_size, \n\u001b[1;32m    210\u001b[0m             num_hidden_layers\u001b[38;5;241m=\u001b[39mnum_hidden_layers, \n\u001b[1;32m    211\u001b[0m             hidden_layer_size\u001b[38;5;241m=\u001b[39mhidden_layer_size, \n\u001b[1;32m    212\u001b[0m             output_size\u001b[38;5;241m=\u001b[39m\u001b[38;5;28mself\u001b[39m\u001b[38;5;241m.\u001b[39moutput_size, \n\u001b[1;32m    213\u001b[0m             activation\u001b[38;5;241m=\u001b[39mactivation,\n\u001b[1;32m    214\u001b[0m            dropout\u001b[38;5;241m=\u001b[39mdropout)\u001b[38;5;241m.\u001b[39mto(\u001b[38;5;28mself\u001b[39m\u001b[38;5;241m.\u001b[39mdevice)\n\u001b[0;32m--> 216\u001b[0m train_losses, val_losses \u001b[38;5;241m=\u001b[39m \u001b[43mmodel\u001b[49m\u001b[38;5;241;43m.\u001b[39;49m\u001b[43mfit\u001b[49m\u001b[43m(\u001b[49m\n\u001b[1;32m    217\u001b[0m \u001b[43m    \u001b[49m\u001b[38;5;28;43mself\u001b[39;49m\u001b[38;5;241;43m.\u001b[39;49m\u001b[43mtrain_loader\u001b[49m\u001b[43m,\u001b[49m\u001b[43m \u001b[49m\n\u001b[1;32m    218\u001b[0m \u001b[43m    \u001b[49m\u001b[38;5;28;43mself\u001b[39;49m\u001b[38;5;241;43m.\u001b[39;49m\u001b[43mtest_loader\u001b[49m\u001b[43m,\u001b[49m\u001b[43m \u001b[49m\n\u001b[1;32m    219\u001b[0m \u001b[43m    \u001b[49m\u001b[43mlearning_rate\u001b[49m\u001b[38;5;241;43m=\u001b[39;49m\u001b[43mlearning_rate\u001b[49m\u001b[43m,\u001b[49m\u001b[43m \u001b[49m\n\u001b[1;32m    220\u001b[0m \u001b[43m    \u001b[49m\u001b[43mweight_decay\u001b[49m\u001b[38;5;241;43m=\u001b[39;49m\u001b[43mweight_decay\u001b[49m\u001b[43m,\u001b[49m\n\u001b[1;32m    221\u001b[0m \u001b[43m    \u001b[49m\u001b[43mepochs\u001b[49m\u001b[38;5;241;43m=\u001b[39;49m\u001b[43mepochs\u001b[49m\u001b[43m,\u001b[49m\n\u001b[1;32m    222\u001b[0m \u001b[43m    \u001b[49m\u001b[43mpatience\u001b[49m\u001b[38;5;241;43m=\u001b[39;49m\u001b[43mpatience\u001b[49m\n\u001b[1;32m    223\u001b[0m \u001b[43m\u001b[49m\u001b[43m)\u001b[49m\n\u001b[1;32m    225\u001b[0m trial\u001b[38;5;241m.\u001b[39mset_user_attr(\u001b[38;5;124m'\u001b[39m\u001b[38;5;124mtrain_losses\u001b[39m\u001b[38;5;124m'\u001b[39m, train_losses)\n\u001b[1;32m    226\u001b[0m trial\u001b[38;5;241m.\u001b[39mset_user_attr(\u001b[38;5;124m'\u001b[39m\u001b[38;5;124mval_losses\u001b[39m\u001b[38;5;124m'\u001b[39m, val_losses)\n",
      "File \u001b[0;32m~/Desktop/bioinfmsc/diss/model_baseline.py:87\u001b[0m, in \u001b[0;36mMLP.fit\u001b[0;34m(self, train_loader, validation_loader, learning_rate, weight_decay, epochs, patience, device)\u001b[0m\n\u001b[1;32m     85\u001b[0m     loss\u001b[38;5;241m.\u001b[39mbackward()\n\u001b[1;32m     86\u001b[0m     \u001b[38;5;28mself\u001b[39m\u001b[38;5;241m.\u001b[39moptimizer\u001b[38;5;241m.\u001b[39mstep()\n\u001b[0;32m---> 87\u001b[0m     train_loss \u001b[38;5;241m+\u001b[39m\u001b[38;5;241m=\u001b[39m \u001b[43mloss\u001b[49m\u001b[38;5;241;43m.\u001b[39;49m\u001b[43mitem\u001b[49m\u001b[43m(\u001b[49m\u001b[43m)\u001b[49m\n\u001b[1;32m     89\u001b[0m avg_train_loss \u001b[38;5;241m=\u001b[39m train_loss \u001b[38;5;241m/\u001b[39m \u001b[38;5;28mlen\u001b[39m(\u001b[38;5;28mself\u001b[39m\u001b[38;5;241m.\u001b[39mtrain_dataloader)\n\u001b[1;32m     90\u001b[0m train_losses\u001b[38;5;241m.\u001b[39mappend(avg_train_loss)\n",
      "\u001b[0;31mKeyboardInterrupt\u001b[0m: "
     ]
    }
   ],
   "source": [
    "config = {\n",
    "        'num_hidden_layers': (1, 5),\n",
    "        'hidden_layer_size': (16, 256),\n",
    "        'activation': ['ReLU', 'Tanh', 'Sigmoid'],\n",
    "        'dropout': (0, 0.5),\n",
    "        'lr': (1e-5, 1e-1),\n",
    "        'weight_decay': (1e-5, 1e-1),\n",
    "        'epochs': 500,\n",
    "        'patience': 10, \n",
    "        'batch_size': (16, 128)\n",
    "    }\n",
    "\n",
    "model = SNV2LinFreqs(train_loader, test_loader, input_size, output_size, device)\n",
    "\n",
    "# Perform optimization\n",
    "best_params = model.optimize(n_trials=100, config=config, pruner=True)\n",
    "\n",
    "print('Best parameters:', best_params)\n",
    "\n",
    "model.plot_trials(params.prefix)\n",
    "\n",
    "# Update the data\n",
    "model.update_data(\n",
    "        torch.cat((x_train, x_test)),\n",
    "        torch.cat((y_train, y_test)),\n",
    "        x_validation,\n",
    "        y_validation\n",
    "    )\n",
    "    \n",
    "\n",
    "# now use model.best_params (set by optimise) to train model on full dataset\n",
    "val_loss =model.fit(\n",
    "        params=model.best_params, \n",
    "        epochs=config[\"epochs\"], \n",
    "        patience=config[\"patience\"])\n",
    "print(val_loss)"
   ]
  }
 ],
 "metadata": {
  "kernelspec": {
   "display_name": "Python 3 (ipykernel)",
   "language": "python",
   "name": "python3"
  },
  "language_info": {
   "codemirror_mode": {
    "name": "ipython",
    "version": 3
   },
   "file_extension": ".py",
   "mimetype": "text/x-python",
   "name": "python",
   "nbconvert_exporter": "python",
   "pygments_lexer": "ipython3",
   "version": "3.9.19"
  }
 },
 "nbformat": 4,
 "nbformat_minor": 5
}
